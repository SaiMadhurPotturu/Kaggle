{
 "cells": [
  {
   "cell_type": "markdown",
   "id": "e0026d83",
   "metadata": {
    "papermill": {
     "duration": 0.010806,
     "end_time": "2022-12-08T21:11:01.462693",
     "exception": false,
     "start_time": "2022-12-08T21:11:01.451887",
     "status": "completed"
    },
    "tags": []
   },
   "source": [
    "**This notebook is an exercise in the [Python](https://www.kaggle.com/learn/python) course.  You can reference the tutorial at [this link](https://www.kaggle.com/colinmorris/booleans-and-conditionals).**\n",
    "\n",
    "---\n"
   ]
  },
  {
   "cell_type": "markdown",
   "id": "3e46d336",
   "metadata": {
    "papermill": {
     "duration": 0.009007,
     "end_time": "2022-12-08T21:11:01.481521",
     "exception": false,
     "start_time": "2022-12-08T21:11:01.472514",
     "status": "completed"
    },
    "tags": []
   },
   "source": [
    "In this exercise, you'll put to work what you have learned about booleans and conditionals.\n",
    "\n",
    "To get started, **run the setup code below** before writing your own code (and if you leave this notebook and come back later, don't forget to run the setup code again)."
   ]
  },
  {
   "cell_type": "code",
   "execution_count": 1,
   "id": "4f35890b",
   "metadata": {
    "execution": {
     "iopub.execute_input": "2022-12-08T21:11:01.503053Z",
     "iopub.status.busy": "2022-12-08T21:11:01.502030Z",
     "iopub.status.idle": "2022-12-08T21:11:01.563509Z",
     "shell.execute_reply": "2022-12-08T21:11:01.562223Z"
    },
    "papermill": {
     "duration": 0.075909,
     "end_time": "2022-12-08T21:11:01.566617",
     "exception": false,
     "start_time": "2022-12-08T21:11:01.490708",
     "status": "completed"
    },
    "tags": []
   },
   "outputs": [
    {
     "name": "stdout",
     "output_type": "stream",
     "text": [
      "Setup complete.\n"
     ]
    }
   ],
   "source": [
    "from learntools.core import binder; binder.bind(globals())\n",
    "from learntools.python.ex3 import *\n",
    "print('Setup complete.')"
   ]
  },
  {
   "cell_type": "markdown",
   "id": "60e476d6",
   "metadata": {
    "papermill": {
     "duration": 0.008885,
     "end_time": "2022-12-08T21:11:01.585206",
     "exception": false,
     "start_time": "2022-12-08T21:11:01.576321",
     "status": "completed"
    },
    "tags": []
   },
   "source": [
    "# 1.\n",
    "\n",
    "Many programming languages have [`sign`](https://en.wikipedia.org/wiki/Sign_function) available as a built-in function. Python doesn't, but we can define our own!\n",
    "\n",
    "In the cell below, define a function called `sign` which takes a numerical argument and returns -1 if it's negative, 1 if it's positive, and 0 if it's 0."
   ]
  },
  {
   "cell_type": "code",
   "execution_count": 2,
   "id": "dc58eee8",
   "metadata": {
    "execution": {
     "iopub.execute_input": "2022-12-08T21:11:01.607416Z",
     "iopub.status.busy": "2022-12-08T21:11:01.606717Z",
     "iopub.status.idle": "2022-12-08T21:11:01.619119Z",
     "shell.execute_reply": "2022-12-08T21:11:01.618086Z"
    },
    "papermill": {
     "duration": 0.025072,
     "end_time": "2022-12-08T21:11:01.621267",
     "exception": false,
     "start_time": "2022-12-08T21:11:01.596195",
     "status": "completed"
    },
    "tags": []
   },
   "outputs": [
    {
     "data": {
      "application/javascript": [
       "parent.postMessage({\"jupyterEvent\": \"custom.exercise_interaction\", \"data\": {\"outcomeType\": 1, \"valueTowardsCompletion\": 0.2, \"interactionType\": 1, \"questionType\": 2, \"questionId\": \"1_SignFunctionProblem\", \"learnToolsVersion\": \"0.3.4\", \"failureMessage\": \"\", \"exceptionClass\": \"\", \"trace\": \"\"}}, \"*\")"
      ],
      "text/plain": [
       "<IPython.core.display.Javascript object>"
      ]
     },
     "metadata": {},
     "output_type": "display_data"
    },
    {
     "data": {
      "text/markdown": [
       "<span style=\"color:#33cc33\">Correct</span>"
      ],
      "text/plain": [
       "Correct"
      ]
     },
     "metadata": {},
     "output_type": "display_data"
    }
   ],
   "source": [
    "# Your code goes here. Define a function called 'sign'\n",
    "def sign(num):\n",
    "    if num < 0 :\n",
    "        return -1\n",
    "    elif num > 0:\n",
    "        return 1\n",
    "    else:\n",
    "        return 0\n",
    "# Check your answer\n",
    " \n",
    "q1.check()"
   ]
  },
  {
   "cell_type": "code",
   "execution_count": 3,
   "id": "76f1ffef",
   "metadata": {
    "execution": {
     "iopub.execute_input": "2022-12-08T21:11:01.642167Z",
     "iopub.status.busy": "2022-12-08T21:11:01.641727Z",
     "iopub.status.idle": "2022-12-08T21:11:01.646598Z",
     "shell.execute_reply": "2022-12-08T21:11:01.645344Z"
    },
    "papermill": {
     "duration": 0.018193,
     "end_time": "2022-12-08T21:11:01.648962",
     "exception": false,
     "start_time": "2022-12-08T21:11:01.630769",
     "status": "completed"
    },
    "tags": []
   },
   "outputs": [],
   "source": [
    "#q1.solution()"
   ]
  },
  {
   "cell_type": "markdown",
   "id": "a1c2b8d5",
   "metadata": {
    "papermill": {
     "duration": 0.00915,
     "end_time": "2022-12-08T21:11:01.667913",
     "exception": false,
     "start_time": "2022-12-08T21:11:01.658763",
     "status": "completed"
    },
    "tags": []
   },
   "source": [
    "# 2.\n",
    "\n",
    "We've decided to add \"logging\" to our `to_smash` function from the previous exercise."
   ]
  },
  {
   "cell_type": "code",
   "execution_count": 4,
   "id": "c2bda04a",
   "metadata": {
    "execution": {
     "iopub.execute_input": "2022-12-08T21:11:01.688226Z",
     "iopub.status.busy": "2022-12-08T21:11:01.687812Z",
     "iopub.status.idle": "2022-12-08T21:11:01.696761Z",
     "shell.execute_reply": "2022-12-08T21:11:01.695550Z"
    },
    "papermill": {
     "duration": 0.02228,
     "end_time": "2022-12-08T21:11:01.699581",
     "exception": false,
     "start_time": "2022-12-08T21:11:01.677301",
     "status": "completed"
    },
    "tags": []
   },
   "outputs": [
    {
     "name": "stdout",
     "output_type": "stream",
     "text": [
      "Splitting 91 candies\n"
     ]
    },
    {
     "data": {
      "text/plain": [
       "1"
      ]
     },
     "execution_count": 4,
     "metadata": {},
     "output_type": "execute_result"
    }
   ],
   "source": [
    "def to_smash(total_candies):\n",
    "    \"\"\"Return the number of leftover candies that must be smashed after distributing\n",
    "    the given number of candies evenly between 3 friends.\n",
    "    \n",
    "    >>> to_smash(91)\n",
    "    1\n",
    "    \"\"\"\n",
    "    print(\"Splitting\", total_candies, \"candies\")\n",
    "    return total_candies % 3\n",
    "\n",
    "to_smash(91)"
   ]
  },
  {
   "cell_type": "markdown",
   "id": "3db25053",
   "metadata": {
    "papermill": {
     "duration": 0.00922,
     "end_time": "2022-12-08T21:11:01.718512",
     "exception": false,
     "start_time": "2022-12-08T21:11:01.709292",
     "status": "completed"
    },
    "tags": []
   },
   "source": [
    "What happens if we call it with `total_candies = 1`?"
   ]
  },
  {
   "cell_type": "code",
   "execution_count": 5,
   "id": "42c0bd3e",
   "metadata": {
    "execution": {
     "iopub.execute_input": "2022-12-08T21:11:01.742945Z",
     "iopub.status.busy": "2022-12-08T21:11:01.742547Z",
     "iopub.status.idle": "2022-12-08T21:11:01.749862Z",
     "shell.execute_reply": "2022-12-08T21:11:01.748651Z"
    },
    "papermill": {
     "duration": 0.024484,
     "end_time": "2022-12-08T21:11:01.752635",
     "exception": false,
     "start_time": "2022-12-08T21:11:01.728151",
     "status": "completed"
    },
    "tags": []
   },
   "outputs": [
    {
     "name": "stdout",
     "output_type": "stream",
     "text": [
      "Splitting 1 candies\n"
     ]
    },
    {
     "data": {
      "text/plain": [
       "1"
      ]
     },
     "execution_count": 5,
     "metadata": {},
     "output_type": "execute_result"
    }
   ],
   "source": [
    "to_smash(1)"
   ]
  },
  {
   "cell_type": "markdown",
   "id": "0f0b01c9",
   "metadata": {
    "papermill": {
     "duration": 0.009337,
     "end_time": "2022-12-08T21:11:01.771771",
     "exception": false,
     "start_time": "2022-12-08T21:11:01.762434",
     "status": "completed"
    },
    "tags": []
   },
   "source": [
    "That isn't great grammar!\n",
    "\n",
    "Modify the definition in the cell below to correct the grammar of our print statement. (If there's only one candy, we should use the singular \"candy\" instead of the plural \"candies\")"
   ]
  },
  {
   "cell_type": "code",
   "execution_count": 6,
   "id": "aef3c9cb",
   "metadata": {
    "execution": {
     "iopub.execute_input": "2022-12-08T21:11:01.792949Z",
     "iopub.status.busy": "2022-12-08T21:11:01.792525Z",
     "iopub.status.idle": "2022-12-08T21:11:01.801737Z",
     "shell.execute_reply": "2022-12-08T21:11:01.800517Z"
    },
    "papermill": {
     "duration": 0.022536,
     "end_time": "2022-12-08T21:11:01.804071",
     "exception": false,
     "start_time": "2022-12-08T21:11:01.781535",
     "status": "completed"
    },
    "tags": []
   },
   "outputs": [
    {
     "name": "stdout",
     "output_type": "stream",
     "text": [
      "Splitting 91 candies\n",
      "Splitting 1 candy\n"
     ]
    },
    {
     "data": {
      "text/plain": [
       "1"
      ]
     },
     "execution_count": 6,
     "metadata": {},
     "output_type": "execute_result"
    }
   ],
   "source": [
    "def to_smash(total_candies):\n",
    "    \"\"\"Return the number of leftover candies that must be smashed after distributing\n",
    "    the given number of candies evenly between 3 friends.\n",
    "    \n",
    "    >>> to_smash(91)\n",
    "    1\n",
    "    \"\"\"\n",
    "    if total_candies == 1:\n",
    "        text = \"candy\"\n",
    "    else:\n",
    "        text = \"candies\"\n",
    "        \n",
    "    print(\"Splitting\", total_candies, text)\n",
    "    return total_candies % 3\n",
    "\n",
    "to_smash(91)\n",
    "to_smash(1)"
   ]
  },
  {
   "cell_type": "markdown",
   "id": "a1e8f166",
   "metadata": {
    "papermill": {
     "duration": 0.009627,
     "end_time": "2022-12-08T21:11:01.823533",
     "exception": false,
     "start_time": "2022-12-08T21:11:01.813906",
     "status": "completed"
    },
    "tags": []
   },
   "source": [
    "To get credit for completing this problem, and to see the official answer, run the code cell below."
   ]
  },
  {
   "cell_type": "code",
   "execution_count": 7,
   "id": "63f09750",
   "metadata": {
    "execution": {
     "iopub.execute_input": "2022-12-08T21:11:01.845023Z",
     "iopub.status.busy": "2022-12-08T21:11:01.844610Z",
     "iopub.status.idle": "2022-12-08T21:11:01.853606Z",
     "shell.execute_reply": "2022-12-08T21:11:01.852483Z"
    },
    "papermill": {
     "duration": 0.022304,
     "end_time": "2022-12-08T21:11:01.855772",
     "exception": false,
     "start_time": "2022-12-08T21:11:01.833468",
     "status": "completed"
    },
    "tags": []
   },
   "outputs": [
    {
     "data": {
      "application/javascript": [
       "parent.postMessage({\"jupyterEvent\": \"custom.exercise_interaction\", \"data\": {\"interactionType\": 3, \"questionType\": 4, \"questionId\": \"2_PluralizationProblem\", \"learnToolsVersion\": \"0.3.4\", \"valueTowardsCompletion\": 0.0, \"failureMessage\": \"\", \"exceptionClass\": \"\", \"trace\": \"\", \"outcomeType\": 4}}, \"*\")"
      ],
      "text/plain": [
       "<IPython.core.display.Javascript object>"
      ]
     },
     "metadata": {},
     "output_type": "display_data"
    },
    {
     "data": {
      "text/markdown": [
       "<span style=\"color:#33cc99\">Solution:</span> A straightforward (and totally fine) solution is to replace the original `print` call with:\n",
       "\n",
       "```python\n",
       "if total_candies == 1:\n",
       "    print(\"Splitting 1 candy\")\n",
       "else:\n",
       "    print(\"Splitting\", total_candies, \"candies\")\n",
       "```\n",
       "\n",
       "Here's a slightly more succinct solution using a conditional expression:\n",
       "\n",
       "```python\n",
       "print(\"Splitting\", total_candies, \"candy\" if total_candies == 1 else \"candies\")\n",
       "```"
      ],
      "text/plain": [
       "Solution: A straightforward (and totally fine) solution is to replace the original `print` call with:\n",
       "\n",
       "```python\n",
       "if total_candies == 1:\n",
       "    print(\"Splitting 1 candy\")\n",
       "else:\n",
       "    print(\"Splitting\", total_candies, \"candies\")\n",
       "```\n",
       "\n",
       "Here's a slightly more succinct solution using a conditional expression:\n",
       "\n",
       "```python\n",
       "print(\"Splitting\", total_candies, \"candy\" if total_candies == 1 else \"candies\")\n",
       "```"
      ]
     },
     "metadata": {},
     "output_type": "display_data"
    }
   ],
   "source": [
    "# Check your answer (Run this code cell to receive credit!)\n",
    "q2.solution()"
   ]
  },
  {
   "cell_type": "markdown",
   "id": "e5b27cc7",
   "metadata": {
    "papermill": {
     "duration": 0.01022,
     "end_time": "2022-12-08T21:11:01.876699",
     "exception": false,
     "start_time": "2022-12-08T21:11:01.866479",
     "status": "completed"
    },
    "tags": []
   },
   "source": [
    "# 3. <span title=\"A bit spicy\" style=\"color: darkgreen \">🌶️</span>\n",
    "\n",
    "In the tutorial, we talked about deciding whether we're prepared for the weather. I said that I'm safe from today's weather if...\n",
    "- I have an umbrella...\n",
    "- or if the rain isn't too heavy and I have a hood...\n",
    "- otherwise, I'm still fine unless it's raining *and* it's a workday\n",
    "\n",
    "The function below uses our first attempt at turning this logic into a Python expression. I claimed that there was a bug in that code. Can you find it?\n",
    "\n",
    "To prove that `prepared_for_weather` is buggy, come up with a set of inputs where either:\n",
    "- the function returns `False` (but should have returned `True`), or\n",
    "- the function returned `True` (but should have returned `False`).\n",
    "\n",
    "To get credit for completing this question, your code should return a <font color='#33cc33'>Correct</font> result."
   ]
  },
  {
   "cell_type": "code",
   "execution_count": 8,
   "id": "2a02d959",
   "metadata": {
    "execution": {
     "iopub.execute_input": "2022-12-08T21:11:01.899615Z",
     "iopub.status.busy": "2022-12-08T21:11:01.899188Z",
     "iopub.status.idle": "2022-12-08T21:11:01.912879Z",
     "shell.execute_reply": "2022-12-08T21:11:01.910372Z"
    },
    "papermill": {
     "duration": 0.028881,
     "end_time": "2022-12-08T21:11:01.915980",
     "exception": false,
     "start_time": "2022-12-08T21:11:01.887099",
     "status": "completed"
    },
    "tags": []
   },
   "outputs": [
    {
     "name": "stdout",
     "output_type": "stream",
     "text": [
      "False\n"
     ]
    },
    {
     "data": {
      "application/javascript": [
       "parent.postMessage({\"jupyterEvent\": \"custom.exercise_interaction\", \"data\": {\"outcomeType\": 1, \"valueTowardsCompletion\": 0.2, \"interactionType\": 1, \"questionType\": 1, \"questionId\": \"3_WeatherDebug\", \"learnToolsVersion\": \"0.3.4\", \"failureMessage\": \"\", \"exceptionClass\": \"\", \"trace\": \"\"}}, \"*\")"
      ],
      "text/plain": [
       "<IPython.core.display.Javascript object>"
      ]
     },
     "metadata": {},
     "output_type": "display_data"
    },
    {
     "data": {
      "text/markdown": [
       "<span style=\"color:#33cc33\">Correct:</span> \n",
       "\n",
       "One example of a failing test case is:\n",
       "\n",
       "```python\n",
       "have_umbrella = False\n",
       "rain_level = 0.0\n",
       "have_hood = False\n",
       "is_workday = False\n",
       "```\n",
       "\n",
       "Clearly we're prepared for the weather in this case. It's not raining. Not only that, it's not a workday, so we don't even need to leave the house! But our function will return False on these inputs.\n",
       "\n",
       "The key problem is that Python implictly parenthesizes the last part as:\n",
       "\n",
       "```python\n",
       "(not (rain_level > 0)) and is_workday\n",
       "```\n",
       "\n",
       "Whereas what we were trying to express would look more like:\n",
       "\n",
       "```python\n",
       "not (rain_level > 0 and is_workday)\n",
       "```\n"
      ],
      "text/plain": [
       "Correct: \n",
       "\n",
       "One example of a failing test case is:\n",
       "\n",
       "```python\n",
       "have_umbrella = False\n",
       "rain_level = 0.0\n",
       "have_hood = False\n",
       "is_workday = False\n",
       "```\n",
       "\n",
       "Clearly we're prepared for the weather in this case. It's not raining. Not only that, it's not a workday, so we don't even need to leave the house! But our function will return False on these inputs.\n",
       "\n",
       "The key problem is that Python implictly parenthesizes the last part as:\n",
       "\n",
       "```python\n",
       "(not (rain_level > 0)) and is_workday\n",
       "```\n",
       "\n",
       "Whereas what we were trying to express would look more like:\n",
       "\n",
       "```python\n",
       "not (rain_level > 0 and is_workday)\n",
       "```"
      ]
     },
     "metadata": {},
     "output_type": "display_data"
    }
   ],
   "source": [
    "def prepared_for_weather(have_umbrella, rain_level, have_hood, is_workday):\n",
    "    # Don't change this code. Our goal is just to find the bug, not fix it!\n",
    "    return have_umbrella or rain_level < 5 and have_hood or not rain_level > 0 and is_workday\n",
    "\n",
    "# Change the values of these inputs so they represent a case where prepared_for_weather\n",
    "# returns the wrong answer.\n",
    "have_umbrella = False\n",
    "rain_level = 10.0\n",
    "have_hood = False\n",
    "is_workday = False\n",
    "\n",
    "# Check what the function returns given the current values of the variables above\n",
    "actual = prepared_for_weather(have_umbrella, rain_level, have_hood, is_workday)\n",
    "print(actual)\n",
    "\n",
    "# Check your answer\n",
    "q3.check()"
   ]
  },
  {
   "cell_type": "code",
   "execution_count": 9,
   "id": "c9bf6262",
   "metadata": {
    "execution": {
     "iopub.execute_input": "2022-12-08T21:11:01.942202Z",
     "iopub.status.busy": "2022-12-08T21:11:01.941716Z",
     "iopub.status.idle": "2022-12-08T21:11:01.946913Z",
     "shell.execute_reply": "2022-12-08T21:11:01.945627Z"
    },
    "papermill": {
     "duration": 0.02136,
     "end_time": "2022-12-08T21:11:01.949946",
     "exception": false,
     "start_time": "2022-12-08T21:11:01.928586",
     "status": "completed"
    },
    "tags": []
   },
   "outputs": [],
   "source": [
    "#q3.hint()\n",
    "#q3.solution()"
   ]
  },
  {
   "cell_type": "markdown",
   "id": "cc50d87c",
   "metadata": {
    "papermill": {
     "duration": 0.011447,
     "end_time": "2022-12-08T21:11:01.973813",
     "exception": false,
     "start_time": "2022-12-08T21:11:01.962366",
     "status": "completed"
    },
    "tags": []
   },
   "source": [
    "# 4.\n",
    "\n",
    "The function `is_negative` below is implemented correctly - it returns True if the given number is negative and False otherwise.\n",
    "\n",
    "However, it's more verbose than it needs to be. We can actually reduce the number of lines of code in this function by *75%* while keeping the same behaviour. \n",
    "\n",
    "See if you can come up with an equivalent body that uses just **one line** of code, and put it in the function `concise_is_negative`. (HINT: you don't even need Python's ternary syntax)"
   ]
  },
  {
   "cell_type": "code",
   "execution_count": 10,
   "id": "f28064fd",
   "metadata": {
    "execution": {
     "iopub.execute_input": "2022-12-08T21:11:02.000649Z",
     "iopub.status.busy": "2022-12-08T21:11:01.999214Z",
     "iopub.status.idle": "2022-12-08T21:11:02.010596Z",
     "shell.execute_reply": "2022-12-08T21:11:02.009409Z"
    },
    "papermill": {
     "duration": 0.025933,
     "end_time": "2022-12-08T21:11:02.012997",
     "exception": false,
     "start_time": "2022-12-08T21:11:01.987064",
     "status": "completed"
    },
    "tags": []
   },
   "outputs": [
    {
     "data": {
      "application/javascript": [
       "parent.postMessage({\"jupyterEvent\": \"custom.exercise_interaction\", \"data\": {\"outcomeType\": 1, \"valueTowardsCompletion\": 0.2, \"interactionType\": 1, \"questionType\": 2, \"questionId\": \"4_ConciseIsNegative\", \"learnToolsVersion\": \"0.3.4\", \"failureMessage\": \"\", \"exceptionClass\": \"\", \"trace\": \"\"}}, \"*\")"
      ],
      "text/plain": [
       "<IPython.core.display.Javascript object>"
      ]
     },
     "metadata": {},
     "output_type": "display_data"
    },
    {
     "data": {
      "text/markdown": [
       "<span style=\"color:#33cc33\">Correct</span>"
      ],
      "text/plain": [
       "Correct"
      ]
     },
     "metadata": {},
     "output_type": "display_data"
    }
   ],
   "source": [
    "def is_negative(number):\n",
    "    if number < 0:\n",
    "        return True\n",
    "    else:\n",
    "        return False\n",
    "\n",
    "def concise_is_negative(number):\n",
    "    return number<0 # Your code goes here (try to keep it to one line!)\n",
    "\n",
    "# Check your answer\n",
    "q4.check()"
   ]
  },
  {
   "cell_type": "code",
   "execution_count": 11,
   "id": "102c3883",
   "metadata": {
    "execution": {
     "iopub.execute_input": "2022-12-08T21:11:02.036535Z",
     "iopub.status.busy": "2022-12-08T21:11:02.036124Z",
     "iopub.status.idle": "2022-12-08T21:11:02.040821Z",
     "shell.execute_reply": "2022-12-08T21:11:02.039422Z"
    },
    "papermill": {
     "duration": 0.019365,
     "end_time": "2022-12-08T21:11:02.043227",
     "exception": false,
     "start_time": "2022-12-08T21:11:02.023862",
     "status": "completed"
    },
    "tags": []
   },
   "outputs": [],
   "source": [
    "#q4.hint()\n",
    "#q4.solution()"
   ]
  },
  {
   "cell_type": "markdown",
   "id": "2ad42e5a",
   "metadata": {
    "papermill": {
     "duration": 0.010601,
     "end_time": "2022-12-08T21:11:02.064812",
     "exception": false,
     "start_time": "2022-12-08T21:11:02.054211",
     "status": "completed"
    },
    "tags": []
   },
   "source": [
    "# 5a.\n",
    "\n",
    "The boolean variables `ketchup`, `mustard` and `onion` represent whether a customer wants a particular topping on their hot dog. We want to implement a number of boolean functions that correspond to some yes-or-no questions about the customer's order. For example:"
   ]
  },
  {
   "cell_type": "code",
   "execution_count": 12,
   "id": "577f2d17",
   "metadata": {
    "execution": {
     "iopub.execute_input": "2022-12-08T21:11:02.092864Z",
     "iopub.status.busy": "2022-12-08T21:11:02.092276Z",
     "iopub.status.idle": "2022-12-08T21:11:02.098854Z",
     "shell.execute_reply": "2022-12-08T21:11:02.097607Z"
    },
    "papermill": {
     "duration": 0.026635,
     "end_time": "2022-12-08T21:11:02.102131",
     "exception": false,
     "start_time": "2022-12-08T21:11:02.075496",
     "status": "completed"
    },
    "tags": []
   },
   "outputs": [],
   "source": [
    "def onionless(ketchup, mustard, onion):\n",
    "    \"\"\"Return whether the customer doesn't want onions.\n",
    "    \"\"\"\n",
    "    return not onion"
   ]
  },
  {
   "cell_type": "code",
   "execution_count": 13,
   "id": "a88efc62",
   "metadata": {
    "execution": {
     "iopub.execute_input": "2022-12-08T21:11:02.130003Z",
     "iopub.status.busy": "2022-12-08T21:11:02.129248Z",
     "iopub.status.idle": "2022-12-08T21:11:02.139818Z",
     "shell.execute_reply": "2022-12-08T21:11:02.138735Z"
    },
    "papermill": {
     "duration": 0.026873,
     "end_time": "2022-12-08T21:11:02.142240",
     "exception": false,
     "start_time": "2022-12-08T21:11:02.115367",
     "status": "completed"
    },
    "tags": []
   },
   "outputs": [
    {
     "data": {
      "application/javascript": [
       "parent.postMessage({\"jupyterEvent\": \"custom.exercise_interaction\", \"data\": {\"outcomeType\": 1, \"valueTowardsCompletion\": 0.2, \"interactionType\": 1, \"questionType\": 2, \"questionId\": \"5.1_AllToppings\", \"learnToolsVersion\": \"0.3.4\", \"failureMessage\": \"\", \"exceptionClass\": \"\", \"trace\": \"\"}}, \"*\")"
      ],
      "text/plain": [
       "<IPython.core.display.Javascript object>"
      ]
     },
     "metadata": {},
     "output_type": "display_data"
    },
    {
     "data": {
      "text/markdown": [
       "<span style=\"color:#33cc33\">Correct</span>"
      ],
      "text/plain": [
       "Correct"
      ]
     },
     "metadata": {},
     "output_type": "display_data"
    }
   ],
   "source": [
    "def wants_all_toppings(ketchup, mustard, onion):\n",
    "    \"\"\"Return whether the customer wants \"the works\" (all 3 toppings)\n",
    "    \"\"\"\n",
    "    return ketchup and mustard and onion\n",
    "\n",
    "# Check your answer\n",
    "q5.a.check()"
   ]
  },
  {
   "cell_type": "code",
   "execution_count": 14,
   "id": "e6432e3c",
   "metadata": {
    "execution": {
     "iopub.execute_input": "2022-12-08T21:11:02.165795Z",
     "iopub.status.busy": "2022-12-08T21:11:02.165395Z",
     "iopub.status.idle": "2022-12-08T21:11:02.170922Z",
     "shell.execute_reply": "2022-12-08T21:11:02.169285Z"
    },
    "papermill": {
     "duration": 0.02023,
     "end_time": "2022-12-08T21:11:02.173468",
     "exception": false,
     "start_time": "2022-12-08T21:11:02.153238",
     "status": "completed"
    },
    "tags": []
   },
   "outputs": [],
   "source": [
    "#q5.a.hint()\n",
    "#q5.a.solution()"
   ]
  },
  {
   "cell_type": "markdown",
   "id": "4eab2c05",
   "metadata": {
    "papermill": {
     "duration": 0.011321,
     "end_time": "2022-12-08T21:11:02.195924",
     "exception": false,
     "start_time": "2022-12-08T21:11:02.184603",
     "status": "completed"
    },
    "tags": []
   },
   "source": [
    "# 5b.\n",
    "\n",
    "For the next function, fill in the body to match the English description in the docstring. "
   ]
  },
  {
   "cell_type": "code",
   "execution_count": 15,
   "id": "3c4c72d8",
   "metadata": {
    "execution": {
     "iopub.execute_input": "2022-12-08T21:11:02.224175Z",
     "iopub.status.busy": "2022-12-08T21:11:02.223757Z",
     "iopub.status.idle": "2022-12-08T21:11:02.233860Z",
     "shell.execute_reply": "2022-12-08T21:11:02.232733Z"
    },
    "papermill": {
     "duration": 0.026367,
     "end_time": "2022-12-08T21:11:02.236227",
     "exception": false,
     "start_time": "2022-12-08T21:11:02.209860",
     "status": "completed"
    },
    "tags": []
   },
   "outputs": [
    {
     "data": {
      "application/javascript": [
       "parent.postMessage({\"jupyterEvent\": \"custom.exercise_interaction\", \"data\": {\"outcomeType\": 1, \"valueTowardsCompletion\": 0.2, \"interactionType\": 1, \"questionType\": 2, \"questionId\": \"5.2_PlainDog\", \"learnToolsVersion\": \"0.3.4\", \"failureMessage\": \"\", \"exceptionClass\": \"\", \"trace\": \"\"}}, \"*\")"
      ],
      "text/plain": [
       "<IPython.core.display.Javascript object>"
      ]
     },
     "metadata": {},
     "output_type": "display_data"
    },
    {
     "data": {
      "text/markdown": [
       "<span style=\"color:#33cc33\">Correct:</span> \n",
       "\n",
       "One solution looks like:\n",
       "```python\n",
       "return not ketchup and not mustard and not onion\n",
       "```\n",
       "\n",
       "We can also [\"factor out\" the nots](https://en.wikipedia.org/wiki/De_Morgan%27s_laws) to get:\n",
       "\n",
       "```python\n",
       "return not (ketchup or mustard or onion)\n",
       "```"
      ],
      "text/plain": [
       "Correct: \n",
       "\n",
       "One solution looks like:\n",
       "```python\n",
       "return not ketchup and not mustard and not onion\n",
       "```\n",
       "\n",
       "We can also [\"factor out\" the nots](https://en.wikipedia.org/wiki/De_Morgan%27s_laws) to get:\n",
       "\n",
       "```python\n",
       "return not (ketchup or mustard or onion)\n",
       "```"
      ]
     },
     "metadata": {},
     "output_type": "display_data"
    }
   ],
   "source": [
    "def wants_plain_hotdog(ketchup, mustard, onion):\n",
    "    \"\"\"Return whether the customer wants a plain hot dog with no toppings.\n",
    "    \"\"\"\n",
    "    return not ketchup and not mustard and not onion\n",
    "\n",
    "# Check your answer\n",
    "q5.b.check()"
   ]
  },
  {
   "cell_type": "code",
   "execution_count": 16,
   "id": "576ab94a",
   "metadata": {
    "execution": {
     "iopub.execute_input": "2022-12-08T21:11:02.260447Z",
     "iopub.status.busy": "2022-12-08T21:11:02.260000Z",
     "iopub.status.idle": "2022-12-08T21:11:02.264866Z",
     "shell.execute_reply": "2022-12-08T21:11:02.263689Z"
    },
    "papermill": {
     "duration": 0.019491,
     "end_time": "2022-12-08T21:11:02.267034",
     "exception": false,
     "start_time": "2022-12-08T21:11:02.247543",
     "status": "completed"
    },
    "tags": []
   },
   "outputs": [],
   "source": [
    "#q5.b.hint()\n",
    "#q5.b.solution()"
   ]
  },
  {
   "cell_type": "markdown",
   "id": "712d57af",
   "metadata": {
    "papermill": {
     "duration": 0.011227,
     "end_time": "2022-12-08T21:11:02.289599",
     "exception": false,
     "start_time": "2022-12-08T21:11:02.278372",
     "status": "completed"
    },
    "tags": []
   },
   "source": [
    "# 5c.\n",
    "\n",
    "You know what to do: for the next function, fill in the body to match the English description in the docstring."
   ]
  },
  {
   "cell_type": "code",
   "execution_count": 17,
   "id": "5aacf080",
   "metadata": {
    "execution": {
     "iopub.execute_input": "2022-12-08T21:11:02.318261Z",
     "iopub.status.busy": "2022-12-08T21:11:02.317809Z",
     "iopub.status.idle": "2022-12-08T21:11:02.328942Z",
     "shell.execute_reply": "2022-12-08T21:11:02.327751Z"
    },
    "papermill": {
     "duration": 0.030506,
     "end_time": "2022-12-08T21:11:02.331728",
     "exception": false,
     "start_time": "2022-12-08T21:11:02.301222",
     "status": "completed"
    },
    "tags": []
   },
   "outputs": [
    {
     "data": {
      "application/javascript": [
       "parent.postMessage({\"jupyterEvent\": \"custom.exercise_interaction\", \"data\": {\"outcomeType\": 1, \"valueTowardsCompletion\": 0.2, \"interactionType\": 1, \"questionType\": 2, \"questionId\": \"5.3_OneSauce\", \"learnToolsVersion\": \"0.3.4\", \"failureMessage\": \"\", \"exceptionClass\": \"\", \"trace\": \"\"}}, \"*\")"
      ],
      "text/plain": [
       "<IPython.core.display.Javascript object>"
      ]
     },
     "metadata": {},
     "output_type": "display_data"
    },
    {
     "data": {
      "text/markdown": [
       "<span style=\"color:#33cc33\">Correct</span>"
      ],
      "text/plain": [
       "Correct"
      ]
     },
     "metadata": {},
     "output_type": "display_data"
    }
   ],
   "source": [
    "def exactly_one_sauce(ketchup, mustard, onion):\n",
    "    \"\"\"Return whether the customer wants either ketchup or mustard, but not both.\n",
    "    (You may be familiar with this operation under the name \"exclusive or\")\n",
    "    \"\"\"\n",
    "    return (ketchup and not mustard) or (not ketchup and mustard)\n",
    "\n",
    "# Check your answer\n",
    "q5.c.check()"
   ]
  },
  {
   "cell_type": "code",
   "execution_count": 18,
   "id": "cb4136f1",
   "metadata": {
    "execution": {
     "iopub.execute_input": "2022-12-08T21:11:02.362546Z",
     "iopub.status.busy": "2022-12-08T21:11:02.361992Z",
     "iopub.status.idle": "2022-12-08T21:11:02.367051Z",
     "shell.execute_reply": "2022-12-08T21:11:02.365857Z"
    },
    "papermill": {
     "duration": 0.020839,
     "end_time": "2022-12-08T21:11:02.369404",
     "exception": false,
     "start_time": "2022-12-08T21:11:02.348565",
     "status": "completed"
    },
    "tags": []
   },
   "outputs": [],
   "source": [
    "#q5.c.hint()\n",
    "#q5.c.solution()"
   ]
  },
  {
   "cell_type": "markdown",
   "id": "a02c5eb2",
   "metadata": {
    "papermill": {
     "duration": 0.012641,
     "end_time": "2022-12-08T21:11:02.396527",
     "exception": false,
     "start_time": "2022-12-08T21:11:02.383886",
     "status": "completed"
    },
    "tags": []
   },
   "source": [
    "# 6. <span title=\"A bit spicy\" style=\"color: darkgreen \">🌶️</span>\n",
    "\n",
    "We’ve seen that calling `bool()` on an integer returns `False` if it’s equal to 0 and `True` otherwise. What happens if we call `int()` on a bool? Try it out in the notebook cell below.\n",
    "\n",
    "Can you take advantage of this to write a succinct function that corresponds to the English sentence \"does the customer want exactly one topping?\"?"
   ]
  },
  {
   "cell_type": "code",
   "execution_count": 19,
   "id": "e8949ab9",
   "metadata": {
    "execution": {
     "iopub.execute_input": "2022-12-08T21:11:02.423812Z",
     "iopub.status.busy": "2022-12-08T21:11:02.422585Z",
     "iopub.status.idle": "2022-12-08T21:11:02.432933Z",
     "shell.execute_reply": "2022-12-08T21:11:02.431812Z"
    },
    "papermill": {
     "duration": 0.025895,
     "end_time": "2022-12-08T21:11:02.435046",
     "exception": false,
     "start_time": "2022-12-08T21:11:02.409151",
     "status": "completed"
    },
    "tags": []
   },
   "outputs": [
    {
     "data": {
      "application/javascript": [
       "parent.postMessage({\"jupyterEvent\": \"custom.exercise_interaction\", \"data\": {\"outcomeType\": 1, \"valueTowardsCompletion\": 0.2, \"interactionType\": 1, \"questionType\": 2, \"questionId\": \"6_OneTopping\", \"learnToolsVersion\": \"0.3.4\", \"failureMessage\": \"\", \"exceptionClass\": \"\", \"trace\": \"\"}}, \"*\")"
      ],
      "text/plain": [
       "<IPython.core.display.Javascript object>"
      ]
     },
     "metadata": {},
     "output_type": "display_data"
    },
    {
     "data": {
      "text/markdown": [
       "<span style=\"color:#33cc33\">Correct:</span> \n",
       "\n",
       "This condition would be pretty complicated to express using just `and`, `or` and `not`, but using boolean-to-integer conversion gives us this short solution:\n",
       "```python\n",
       "return (int(ketchup) + int(mustard) + int(onion)) == 1\n",
       "```\n",
       "\n",
       "Fun fact: we don't technically need to call `int` on the arguments. Just by doing addition with booleans, Python implicitly does the integer conversion. So we could also write...\n",
       "\n",
       "```python\n",
       "return (ketchup + mustard + onion) == 1\n",
       "```"
      ],
      "text/plain": [
       "Correct: \n",
       "\n",
       "This condition would be pretty complicated to express using just `and`, `or` and `not`, but using boolean-to-integer conversion gives us this short solution:\n",
       "```python\n",
       "return (int(ketchup) + int(mustard) + int(onion)) == 1\n",
       "```\n",
       "\n",
       "Fun fact: we don't technically need to call `int` on the arguments. Just by doing addition with booleans, Python implicitly does the integer conversion. So we could also write...\n",
       "\n",
       "```python\n",
       "return (ketchup + mustard + onion) == 1\n",
       "```"
      ]
     },
     "metadata": {},
     "output_type": "display_data"
    }
   ],
   "source": [
    "def exactly_one_topping(ketchup, mustard, onion):\n",
    "    \"\"\"Return whether the customer wants exactly one of the three available toppings\n",
    "    on their hot dog.\n",
    "    \"\"\"\n",
    "    return (ketchup + mustard + onion) == 1\n",
    "\n",
    "# Check your answer\n",
    "q6.check()"
   ]
  },
  {
   "cell_type": "code",
   "execution_count": 20,
   "id": "45719b68",
   "metadata": {
    "execution": {
     "iopub.execute_input": "2022-12-08T21:11:02.460862Z",
     "iopub.status.busy": "2022-12-08T21:11:02.459868Z",
     "iopub.status.idle": "2022-12-08T21:11:02.464638Z",
     "shell.execute_reply": "2022-12-08T21:11:02.463686Z"
    },
    "papermill": {
     "duration": 0.019969,
     "end_time": "2022-12-08T21:11:02.466820",
     "exception": false,
     "start_time": "2022-12-08T21:11:02.446851",
     "status": "completed"
    },
    "tags": []
   },
   "outputs": [],
   "source": [
    "#q6.hint()\n",
    "#q6.solution()"
   ]
  },
  {
   "cell_type": "markdown",
   "id": "705f25cc",
   "metadata": {
    "papermill": {
     "duration": 0.011597,
     "end_time": "2022-12-08T21:11:02.490448",
     "exception": false,
     "start_time": "2022-12-08T21:11:02.478851",
     "status": "completed"
    },
    "tags": []
   },
   "source": [
    "# 7. <span title=\"A bit spicy\" style=\"color: darkgreen \">🌶️</span> (Optional)\n",
    "\n",
    "In this problem we'll be working with a simplified version of [blackjack](https://en.wikipedia.org/wiki/Blackjack) (aka twenty-one). In this version there is one player (who you'll control) and a dealer. Play proceeds as follows:\n",
    "\n",
    "- The player is dealt two face-up cards. The dealer is dealt one face-up card.\n",
    "- The player may ask to be dealt another card ('hit') as many times as they wish. If the sum of their cards exceeds 21, they lose the round immediately.\n",
    "- The dealer then deals additional cards to himself until either:\n",
    "    - the sum of the dealer's cards exceeds 21, in which case the player wins the round\n",
    "    - the sum of the dealer's cards is greater than or equal to 17. If the player's total is greater than the dealer's, the player wins. Otherwise, the dealer wins (even in case of a tie).\n",
    "    \n",
    "When calculating the sum of cards, Jack, Queen, and King count for 10. Aces can count as 1 or 11 (when referring to a player's \"total\" above, we mean the largest total that can be made without exceeding 21. So e.g. A+8 = 19, A+8+8 = 17)\n",
    "\n",
    "For this problem, you'll write a function representing the player's decision-making strategy in this game. We've provided a very unintelligent implementation below:"
   ]
  },
  {
   "cell_type": "code",
   "execution_count": 21,
   "id": "8f7b2ff6",
   "metadata": {
    "execution": {
     "iopub.execute_input": "2022-12-08T21:11:02.516205Z",
     "iopub.status.busy": "2022-12-08T21:11:02.515761Z",
     "iopub.status.idle": "2022-12-08T21:11:02.520983Z",
     "shell.execute_reply": "2022-12-08T21:11:02.520008Z"
    },
    "papermill": {
     "duration": 0.020936,
     "end_time": "2022-12-08T21:11:02.523422",
     "exception": false,
     "start_time": "2022-12-08T21:11:02.502486",
     "status": "completed"
    },
    "tags": []
   },
   "outputs": [],
   "source": [
    "def should_hit(dealer_total, player_total, player_low_aces, player_high_aces):\n",
    "    \"\"\"Return True if the player should hit (request another card) given the current game\n",
    "    state, or False if the player should stay.\n",
    "    When calculating a hand's total value, we count aces as \"high\" (with value 11) if doing so\n",
    "    doesn't bring the total above 21, otherwise we count them as low (with value 1). \n",
    "    For example, if the player's hand is {A, A, A, 7}, we will count it as 11 + 1 + 1 + 7,\n",
    "    and therefore set player_total=20, player_low_aces=2, player_high_aces=1.\n",
    "    \"\"\"\n",
    "    return False"
   ]
  },
  {
   "cell_type": "markdown",
   "id": "ba2bbb16",
   "metadata": {
    "papermill": {
     "duration": 0.011748,
     "end_time": "2022-12-08T21:11:02.547315",
     "exception": false,
     "start_time": "2022-12-08T21:11:02.535567",
     "status": "completed"
    },
    "tags": []
   },
   "source": [
    "This very conservative agent *always* sticks with the hand of two cards that they're dealt.\n",
    "\n",
    "We'll be simulating games between your player agent and our own dealer agent by calling your function.\n",
    "\n",
    "Try running the function below to see an example of a simulated game:"
   ]
  },
  {
   "cell_type": "code",
   "execution_count": 22,
   "id": "622bb13d",
   "metadata": {
    "execution": {
     "iopub.execute_input": "2022-12-08T21:11:02.573833Z",
     "iopub.status.busy": "2022-12-08T21:11:02.572979Z",
     "iopub.status.idle": "2022-12-08T21:11:02.580295Z",
     "shell.execute_reply": "2022-12-08T21:11:02.578307Z"
    },
    "papermill": {
     "duration": 0.02385,
     "end_time": "2022-12-08T21:11:02.583275",
     "exception": false,
     "start_time": "2022-12-08T21:11:02.559425",
     "status": "completed"
    },
    "tags": []
   },
   "outputs": [
    {
     "name": "stdout",
     "output_type": "stream",
     "text": [
      "Player starts with K and 3 (total = 13)\n",
      "Dealer starts with 6\n",
      "\n",
      "__Player's turn__\n",
      "Player stays\n",
      "\n",
      "__Dealer's turn__\n",
      "Dealer hits and receives A. (total = 17)\n",
      "Dealer stands.\n",
      "Dealer wins. 17 >= 13\n"
     ]
    }
   ],
   "source": [
    "q7.simulate_one_game()"
   ]
  },
  {
   "cell_type": "markdown",
   "id": "c4c1b3cc",
   "metadata": {
    "papermill": {
     "duration": 0.011652,
     "end_time": "2022-12-08T21:11:02.607318",
     "exception": false,
     "start_time": "2022-12-08T21:11:02.595666",
     "status": "completed"
    },
    "tags": []
   },
   "source": [
    "The real test of your agent's mettle is their average win rate over many games. Try calling the function below to simulate 50000 games of blackjack (it may take a couple seconds):"
   ]
  },
  {
   "cell_type": "code",
   "execution_count": 23,
   "id": "87ffa1d5",
   "metadata": {
    "execution": {
     "iopub.execute_input": "2022-12-08T21:11:02.633886Z",
     "iopub.status.busy": "2022-12-08T21:11:02.632821Z",
     "iopub.status.idle": "2022-12-08T21:11:04.351690Z",
     "shell.execute_reply": "2022-12-08T21:11:04.350287Z"
    },
    "papermill": {
     "duration": 1.735087,
     "end_time": "2022-12-08T21:11:04.354487",
     "exception": false,
     "start_time": "2022-12-08T21:11:02.619400",
     "status": "completed"
    },
    "tags": []
   },
   "outputs": [
    {
     "name": "stdout",
     "output_type": "stream",
     "text": [
      "Player won 18979 out of 50000 games (win rate = 38.0%)\n"
     ]
    }
   ],
   "source": [
    "q7.simulate(n_games=50000)"
   ]
  },
  {
   "cell_type": "markdown",
   "id": "ab5b17a6",
   "metadata": {
    "papermill": {
     "duration": 0.011575,
     "end_time": "2022-12-08T21:11:04.378098",
     "exception": false,
     "start_time": "2022-12-08T21:11:04.366523",
     "status": "completed"
    },
    "tags": []
   },
   "source": [
    "Our dumb agent that completely ignores the game state still manages to win shockingly often!\n",
    "\n",
    "Try adding some more smarts to the `should_hit` function and see how it affects the results."
   ]
  },
  {
   "cell_type": "code",
   "execution_count": 24,
   "id": "0695f2ec",
   "metadata": {
    "execution": {
     "iopub.execute_input": "2022-12-08T21:11:04.405224Z",
     "iopub.status.busy": "2022-12-08T21:11:04.404350Z",
     "iopub.status.idle": "2022-12-08T21:11:06.031187Z",
     "shell.execute_reply": "2022-12-08T21:11:06.029659Z"
    },
    "papermill": {
     "duration": 1.643907,
     "end_time": "2022-12-08T21:11:06.033967",
     "exception": false,
     "start_time": "2022-12-08T21:11:04.390060",
     "status": "completed"
    },
    "tags": []
   },
   "outputs": [
    {
     "name": "stdout",
     "output_type": "stream",
     "text": [
      "Player won 19084 out of 50000 games (win rate = 38.2%)\n"
     ]
    }
   ],
   "source": [
    "def should_hit(dealer_total, player_total, player_low_aces, player_high_aces):\n",
    "    \"\"\"Return True if the player should hit (request another card) given the current game\n",
    "    state, or False if the player should stay.\n",
    "    When calculating a hand's total value, we count aces as \"high\" (with value 11) if doing so\n",
    "    doesn't bring the total above 21, otherwise we count them as low (with value 1). \n",
    "    For example, if the player's hand is {A, A, A, 7}, we will count it as 11 + 1 + 1 + 7,\n",
    "    and therefore set player_total=20, player_low_aces=2, player_high_aces=1.\n",
    "    \"\"\"\n",
    "    return False\n",
    "\n",
    "q7.simulate(n_games=50000)"
   ]
  },
  {
   "cell_type": "markdown",
   "id": "4fd4328a",
   "metadata": {
    "papermill": {
     "duration": 0.011536,
     "end_time": "2022-12-08T21:11:06.057415",
     "exception": false,
     "start_time": "2022-12-08T21:11:06.045879",
     "status": "completed"
    },
    "tags": []
   },
   "source": [
    "# Keep Going\n",
    "\n",
    "Learn about **[lists and tuples](https://www.kaggle.com/colinmorris/lists)** to handle multiple items of data in a systematic way."
   ]
  },
  {
   "cell_type": "markdown",
   "id": "3a05f570",
   "metadata": {
    "papermill": {
     "duration": 0.011343,
     "end_time": "2022-12-08T21:11:06.080511",
     "exception": false,
     "start_time": "2022-12-08T21:11:06.069168",
     "status": "completed"
    },
    "tags": []
   },
   "source": [
    "---\n",
    "\n",
    "\n",
    "\n",
    "\n",
    "*Have questions or comments? Visit the [course discussion forum](https://www.kaggle.com/learn/python/discussion) to chat with other learners.*"
   ]
  }
 ],
 "metadata": {
  "kernelspec": {
   "display_name": "Python 3",
   "language": "python",
   "name": "python3"
  },
  "language_info": {
   "codemirror_mode": {
    "name": "ipython",
    "version": 3
   },
   "file_extension": ".py",
   "mimetype": "text/x-python",
   "name": "python",
   "nbconvert_exporter": "python",
   "pygments_lexer": "ipython3",
   "version": "3.7.12"
  },
  "papermill": {
   "default_parameters": {},
   "duration": 14.10304,
   "end_time": "2022-12-08T21:11:06.815701",
   "environment_variables": {},
   "exception": null,
   "input_path": "__notebook__.ipynb",
   "output_path": "__notebook__.ipynb",
   "parameters": {},
   "start_time": "2022-12-08T21:10:52.712661",
   "version": "2.3.4"
  }
 },
 "nbformat": 4,
 "nbformat_minor": 5
}
