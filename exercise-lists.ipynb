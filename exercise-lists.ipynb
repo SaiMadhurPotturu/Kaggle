{
 "cells": [
  {
   "cell_type": "markdown",
   "id": "61435435",
   "metadata": {
    "papermill": {
     "duration": 0.006189,
     "end_time": "2022-12-08T22:34:59.444332",
     "exception": false,
     "start_time": "2022-12-08T22:34:59.438143",
     "status": "completed"
    },
    "tags": []
   },
   "source": [
    "**This notebook is an exercise in the [Python](https://www.kaggle.com/learn/python) course.  You can reference the tutorial at [this link](https://www.kaggle.com/colinmorris/lists).**\n",
    "\n",
    "---\n"
   ]
  },
  {
   "cell_type": "markdown",
   "id": "30b794b6",
   "metadata": {
    "papermill": {
     "duration": 0.004953,
     "end_time": "2022-12-08T22:34:59.454881",
     "exception": false,
     "start_time": "2022-12-08T22:34:59.449928",
     "status": "completed"
    },
    "tags": []
   },
   "source": [
    "Things get more interesting with lists. You'll apply your new knowledge to solve the questions below. Remember to run the following cell first."
   ]
  },
  {
   "cell_type": "code",
   "execution_count": 1,
   "id": "6e0f24c4",
   "metadata": {
    "execution": {
     "iopub.execute_input": "2022-12-08T22:34:59.467044Z",
     "iopub.status.busy": "2022-12-08T22:34:59.466526Z",
     "iopub.status.idle": "2022-12-08T22:34:59.527473Z",
     "shell.execute_reply": "2022-12-08T22:34:59.526660Z"
    },
    "papermill": {
     "duration": 0.070728,
     "end_time": "2022-12-08T22:34:59.530615",
     "exception": false,
     "start_time": "2022-12-08T22:34:59.459887",
     "status": "completed"
    },
    "tags": []
   },
   "outputs": [
    {
     "name": "stdout",
     "output_type": "stream",
     "text": [
      "Setup complete.\n"
     ]
    }
   ],
   "source": [
    "from learntools.core import binder; binder.bind(globals())\n",
    "from learntools.python.ex4 import *\n",
    "print('Setup complete.')"
   ]
  },
  {
   "cell_type": "markdown",
   "id": "87ea2777",
   "metadata": {
    "papermill": {
     "duration": 0.004724,
     "end_time": "2022-12-08T22:34:59.540455",
     "exception": false,
     "start_time": "2022-12-08T22:34:59.535731",
     "status": "completed"
    },
    "tags": []
   },
   "source": [
    "# 1.\n",
    "\n",
    "Complete the function below according to its docstring."
   ]
  },
  {
   "cell_type": "code",
   "execution_count": 2,
   "id": "b166e40b",
   "metadata": {
    "execution": {
     "iopub.execute_input": "2022-12-08T22:34:59.552373Z",
     "iopub.status.busy": "2022-12-08T22:34:59.551683Z",
     "iopub.status.idle": "2022-12-08T22:34:59.562637Z",
     "shell.execute_reply": "2022-12-08T22:34:59.561853Z"
    },
    "papermill": {
     "duration": 0.019367,
     "end_time": "2022-12-08T22:34:59.564671",
     "exception": false,
     "start_time": "2022-12-08T22:34:59.545304",
     "status": "completed"
    },
    "tags": []
   },
   "outputs": [
    {
     "data": {
      "application/javascript": [
       "parent.postMessage({\"jupyterEvent\": \"custom.exercise_interaction\", \"data\": {\"outcomeType\": 1, \"valueTowardsCompletion\": 0.2, \"interactionType\": 1, \"questionType\": 2, \"questionId\": \"1_SelectSecondItem\", \"learnToolsVersion\": \"0.3.4\", \"failureMessage\": \"\", \"exceptionClass\": \"\", \"trace\": \"\"}}, \"*\")"
      ],
      "text/plain": [
       "<IPython.core.display.Javascript object>"
      ]
     },
     "metadata": {},
     "output_type": "display_data"
    },
    {
     "data": {
      "text/markdown": [
       "<span style=\"color:#33cc33\">Correct</span>"
      ],
      "text/plain": [
       "Correct"
      ]
     },
     "metadata": {},
     "output_type": "display_data"
    }
   ],
   "source": [
    "def select_second(L):\n",
    "    \"\"\"Return the second element of the given list. If the list has no second\n",
    "    element, return None.\n",
    "    \"\"\"\n",
    "    if len(L) < 2:\n",
    "        return\n",
    "    elif len(L) >= 2:\n",
    "        return L[1]\n",
    "    pass\n",
    "\n",
    "# Check your answer\n",
    "q1.check()"
   ]
  },
  {
   "cell_type": "code",
   "execution_count": 3,
   "id": "17cbf73f",
   "metadata": {
    "execution": {
     "iopub.execute_input": "2022-12-08T22:34:59.577227Z",
     "iopub.status.busy": "2022-12-08T22:34:59.576829Z",
     "iopub.status.idle": "2022-12-08T22:34:59.582711Z",
     "shell.execute_reply": "2022-12-08T22:34:59.581675Z"
    },
    "papermill": {
     "duration": 0.015264,
     "end_time": "2022-12-08T22:34:59.585197",
     "exception": false,
     "start_time": "2022-12-08T22:34:59.569933",
     "status": "completed"
    },
    "tags": []
   },
   "outputs": [],
   "source": [
    "#q1.hint()\n",
    "#q1.solution()"
   ]
  },
  {
   "cell_type": "markdown",
   "id": "5c1cf994",
   "metadata": {
    "papermill": {
     "duration": 0.004817,
     "end_time": "2022-12-08T22:34:59.595224",
     "exception": false,
     "start_time": "2022-12-08T22:34:59.590407",
     "status": "completed"
    },
    "tags": []
   },
   "source": [
    "# 2.\n",
    "\n",
    "You are analyzing sports teams.  Members of each team are stored in a list. The Coach is the first name in the list, the captain is the second name in the list, and other players are listed after that. \n",
    "These lists are stored in another list, which starts with the best team and proceeds through the list to the worst team last.  Complete the function below to select the **captain** of the worst team."
   ]
  },
  {
   "cell_type": "code",
   "execution_count": 4,
   "id": "f8e73799",
   "metadata": {
    "execution": {
     "iopub.execute_input": "2022-12-08T22:34:59.607181Z",
     "iopub.status.busy": "2022-12-08T22:34:59.606752Z",
     "iopub.status.idle": "2022-12-08T22:34:59.615975Z",
     "shell.execute_reply": "2022-12-08T22:34:59.614848Z"
    },
    "papermill": {
     "duration": 0.017757,
     "end_time": "2022-12-08T22:34:59.618065",
     "exception": false,
     "start_time": "2022-12-08T22:34:59.600308",
     "status": "completed"
    },
    "tags": []
   },
   "outputs": [
    {
     "data": {
      "application/javascript": [
       "parent.postMessage({\"jupyterEvent\": \"custom.exercise_interaction\", \"data\": {\"outcomeType\": 1, \"valueTowardsCompletion\": 0.2, \"interactionType\": 1, \"questionType\": 2, \"questionId\": \"2_LosingTeamCaptain\", \"learnToolsVersion\": \"0.3.4\", \"failureMessage\": \"\", \"exceptionClass\": \"\", \"trace\": \"\"}}, \"*\")"
      ],
      "text/plain": [
       "<IPython.core.display.Javascript object>"
      ]
     },
     "metadata": {},
     "output_type": "display_data"
    },
    {
     "data": {
      "text/markdown": [
       "<span style=\"color:#33cc33\">Correct</span>"
      ],
      "text/plain": [
       "Correct"
      ]
     },
     "metadata": {},
     "output_type": "display_data"
    }
   ],
   "source": [
    "def losing_team_captain(teams):\n",
    "    \"\"\"Given a list of teams, where each team is a list of names, return the 2nd player (captain)\n",
    "    from the last listed team\n",
    "    \"\"\"\n",
    "    return teams[-1][1]\n",
    "\n",
    "# Check your answer\n",
    "q2.check()"
   ]
  },
  {
   "cell_type": "code",
   "execution_count": 5,
   "id": "36a3fa4f",
   "metadata": {
    "execution": {
     "iopub.execute_input": "2022-12-08T22:34:59.630897Z",
     "iopub.status.busy": "2022-12-08T22:34:59.630221Z",
     "iopub.status.idle": "2022-12-08T22:34:59.634729Z",
     "shell.execute_reply": "2022-12-08T22:34:59.633849Z"
    },
    "papermill": {
     "duration": 0.012972,
     "end_time": "2022-12-08T22:34:59.636739",
     "exception": false,
     "start_time": "2022-12-08T22:34:59.623767",
     "status": "completed"
    },
    "tags": []
   },
   "outputs": [],
   "source": [
    "#q2.hint()\n",
    "#q2.solution()"
   ]
  },
  {
   "cell_type": "markdown",
   "id": "a507dd6b",
   "metadata": {
    "papermill": {
     "duration": 0.004934,
     "end_time": "2022-12-08T22:34:59.648576",
     "exception": false,
     "start_time": "2022-12-08T22:34:59.643642",
     "status": "completed"
    },
    "tags": []
   },
   "source": [
    "# 3.\n",
    "\n",
    "The next iteration of Mario Kart will feature an extra-infuriating new item, the *Purple Shell*. When used, it warps the last place racer into first place and the first place racer into last place. Complete the function below to implement the Purple Shell's effect."
   ]
  },
  {
   "cell_type": "code",
   "execution_count": 6,
   "id": "ce7d14bc",
   "metadata": {
    "execution": {
     "iopub.execute_input": "2022-12-08T22:34:59.661339Z",
     "iopub.status.busy": "2022-12-08T22:34:59.660347Z",
     "iopub.status.idle": "2022-12-08T22:34:59.669881Z",
     "shell.execute_reply": "2022-12-08T22:34:59.669034Z"
    },
    "papermill": {
     "duration": 0.018189,
     "end_time": "2022-12-08T22:34:59.672033",
     "exception": false,
     "start_time": "2022-12-08T22:34:59.653844",
     "status": "completed"
    },
    "tags": []
   },
   "outputs": [
    {
     "data": {
      "application/javascript": [
       "parent.postMessage({\"jupyterEvent\": \"custom.exercise_interaction\", \"data\": {\"outcomeType\": 1, \"valueTowardsCompletion\": 0.2, \"interactionType\": 1, \"questionType\": 2, \"questionId\": \"3_PurpleShell\", \"learnToolsVersion\": \"0.3.4\", \"failureMessage\": \"\", \"exceptionClass\": \"\", \"trace\": \"\"}}, \"*\")"
      ],
      "text/plain": [
       "<IPython.core.display.Javascript object>"
      ]
     },
     "metadata": {},
     "output_type": "display_data"
    },
    {
     "data": {
      "text/markdown": [
       "<span style=\"color:#33cc33\">Correct</span>"
      ],
      "text/plain": [
       "Correct"
      ]
     },
     "metadata": {},
     "output_type": "display_data"
    }
   ],
   "source": [
    "def purple_shell(racers):\n",
    "    \"\"\"Given a list of racers, set the first place racer (at the front of the list) to last\n",
    "    place and vice versa.\n",
    "    \n",
    "    >>> r = [\"Mario\", \"Bowser\", \"Luigi\"]\n",
    "    >>> purple_shell(r)\n",
    "    >>> r\n",
    "    [\"Luigi\", \"Bowser\", \"Mario\"]\n",
    "    \"\"\"\n",
    "    temp = racers[0]\n",
    "    racers[0] = racers [-1]\n",
    "    racers[-1] = temp\n",
    "    pass\n",
    "\n",
    "# Check your answer\n",
    "q3.check()"
   ]
  },
  {
   "cell_type": "code",
   "execution_count": 7,
   "id": "a1a8893f",
   "metadata": {
    "execution": {
     "iopub.execute_input": "2022-12-08T22:34:59.685059Z",
     "iopub.status.busy": "2022-12-08T22:34:59.684648Z",
     "iopub.status.idle": "2022-12-08T22:34:59.689120Z",
     "shell.execute_reply": "2022-12-08T22:34:59.688018Z"
    },
    "papermill": {
     "duration": 0.013749,
     "end_time": "2022-12-08T22:34:59.691472",
     "exception": false,
     "start_time": "2022-12-08T22:34:59.677723",
     "status": "completed"
    },
    "tags": []
   },
   "outputs": [],
   "source": [
    "#q3.hint()\n",
    "#q3.solution()"
   ]
  },
  {
   "cell_type": "markdown",
   "id": "5a213912",
   "metadata": {
    "papermill": {
     "duration": 0.006468,
     "end_time": "2022-12-08T22:34:59.703838",
     "exception": false,
     "start_time": "2022-12-08T22:34:59.697370",
     "status": "completed"
    },
    "tags": []
   },
   "source": [
    "# 4.\n",
    "\n",
    "What are the lengths of the following lists? Fill in the variable `lengths` with your predictions. (Try to make a prediction for each list *without* just calling `len()` on it.)"
   ]
  },
  {
   "cell_type": "code",
   "execution_count": 8,
   "id": "31ce82db",
   "metadata": {
    "execution": {
     "iopub.execute_input": "2022-12-08T22:34:59.720275Z",
     "iopub.status.busy": "2022-12-08T22:34:59.719824Z",
     "iopub.status.idle": "2022-12-08T22:34:59.730270Z",
     "shell.execute_reply": "2022-12-08T22:34:59.728874Z"
    },
    "papermill": {
     "duration": 0.02172,
     "end_time": "2022-12-08T22:34:59.732622",
     "exception": false,
     "start_time": "2022-12-08T22:34:59.710902",
     "status": "completed"
    },
    "tags": []
   },
   "outputs": [
    {
     "data": {
      "application/javascript": [
       "parent.postMessage({\"jupyterEvent\": \"custom.exercise_interaction\", \"data\": {\"outcomeType\": 1, \"valueTowardsCompletion\": 0.2, \"interactionType\": 1, \"questionType\": 1, \"questionId\": \"4_UnderstandLen\", \"learnToolsVersion\": \"0.3.4\", \"failureMessage\": \"\", \"exceptionClass\": \"\", \"trace\": \"\"}}, \"*\")"
      ],
      "text/plain": [
       "<IPython.core.display.Javascript object>"
      ]
     },
     "metadata": {},
     "output_type": "display_data"
    },
    {
     "data": {
      "text/markdown": [
       "<span style=\"color:#33cc33\">Correct:</span> \n",
       "\n",
       "\n",
       "- a: There are three items in this list. Nothing tricky yet.\n",
       "- b: The list `[2, 3]` counts as a single item. It has one item before it. So we have 2 items in the list\n",
       "- c: The empty list has 0 items\n",
       "- d: The expression is the same as the list `[2, 3]`, which has length 2."
      ],
      "text/plain": [
       "Correct: \n",
       "\n",
       "\n",
       "- a: There are three items in this list. Nothing tricky yet.\n",
       "- b: The list `[2, 3]` counts as a single item. It has one item before it. So we have 2 items in the list\n",
       "- c: The empty list has 0 items\n",
       "- d: The expression is the same as the list `[2, 3]`, which has length 2."
      ]
     },
     "metadata": {},
     "output_type": "display_data"
    }
   ],
   "source": [
    "a = [1, 2, 3]\n",
    "b = [1, [2, 3]]\n",
    "c = []\n",
    "d = [1, 2, 3][1:]\n",
    "\n",
    "# Put your predictions in the list below. Lengths should contain 4 numbers, the\n",
    "# first being the length of a, the second being the length of b and so on.\n",
    "lengths = [3,2,0,2]\n",
    "\n",
    "# Check your answer\n",
    "q4.check()"
   ]
  },
  {
   "cell_type": "code",
   "execution_count": 9,
   "id": "82904390",
   "metadata": {
    "execution": {
     "iopub.execute_input": "2022-12-08T22:34:59.747225Z",
     "iopub.status.busy": "2022-12-08T22:34:59.746807Z",
     "iopub.status.idle": "2022-12-08T22:34:59.751393Z",
     "shell.execute_reply": "2022-12-08T22:34:59.750233Z"
    },
    "papermill": {
     "duration": 0.014925,
     "end_time": "2022-12-08T22:34:59.753702",
     "exception": false,
     "start_time": "2022-12-08T22:34:59.738777",
     "status": "completed"
    },
    "tags": []
   },
   "outputs": [],
   "source": [
    "# line below provides some explanation\n",
    "#q4.solution()"
   ]
  },
  {
   "cell_type": "markdown",
   "id": "498abf5f",
   "metadata": {
    "papermill": {
     "duration": 0.005556,
     "end_time": "2022-12-08T22:34:59.765234",
     "exception": false,
     "start_time": "2022-12-08T22:34:59.759678",
     "status": "completed"
    },
    "tags": []
   },
   "source": [
    "# 5. <span title=\"A bit spicy\" style=\"color: darkgreen \">🌶️</span>\n",
    "\n",
    "We're using lists to record people who attended our party and what order they arrived in. For example, the following list represents a party with 7 guests, in which Adela showed up first and Ford was the last to arrive:\n",
    "\n",
    "    party_attendees = ['Adela', 'Fleda', 'Owen', 'May', 'Mona', 'Gilbert', 'Ford']\n",
    "\n",
    "A guest is considered 'fashionably late' if they arrived after at least half of the party's guests. However, they must not be the very last guest (that's taking it too far). In the above example, Mona and Gilbert are the only guests who were fashionably late.\n",
    "\n",
    "Complete the function below which takes a list of party attendees as well as a person, and tells us whether that person is fashionably late."
   ]
  },
  {
   "cell_type": "code",
   "execution_count": 10,
   "id": "eddcf031",
   "metadata": {
    "execution": {
     "iopub.execute_input": "2022-12-08T22:34:59.780010Z",
     "iopub.status.busy": "2022-12-08T22:34:59.779568Z",
     "iopub.status.idle": "2022-12-08T22:34:59.789701Z",
     "shell.execute_reply": "2022-12-08T22:34:59.788542Z"
    },
    "papermill": {
     "duration": 0.019905,
     "end_time": "2022-12-08T22:34:59.791853",
     "exception": false,
     "start_time": "2022-12-08T22:34:59.771948",
     "status": "completed"
    },
    "tags": []
   },
   "outputs": [
    {
     "data": {
      "application/javascript": [
       "parent.postMessage({\"jupyterEvent\": \"custom.exercise_interaction\", \"data\": {\"outcomeType\": 1, \"valueTowardsCompletion\": 0.2, \"interactionType\": 1, \"questionType\": 2, \"questionId\": \"5_FashionablyLate\", \"learnToolsVersion\": \"0.3.4\", \"failureMessage\": \"\", \"exceptionClass\": \"\", \"trace\": \"\"}}, \"*\")"
      ],
      "text/plain": [
       "<IPython.core.display.Javascript object>"
      ]
     },
     "metadata": {},
     "output_type": "display_data"
    },
    {
     "data": {
      "text/markdown": [
       "<span style=\"color:#33cc33\">Correct</span>"
      ],
      "text/plain": [
       "Correct"
      ]
     },
     "metadata": {},
     "output_type": "display_data"
    }
   ],
   "source": [
    "def fashionably_late(arrivals, name):\n",
    "    \"\"\"Given an ordered list of arrivals to the party and a name, return whether the guest with that\n",
    "    name was fashionably late.\n",
    "    \"\"\"\n",
    "    position = arrivals.index(name)\n",
    "    return position >= len(arrivals) / 2 and position != len(arrivals) - 1\n",
    "\n",
    "    \n",
    "\n",
    "# Check your answer\n",
    "q5.check()"
   ]
  },
  {
   "cell_type": "code",
   "execution_count": 11,
   "id": "7766f16b",
   "metadata": {
    "execution": {
     "iopub.execute_input": "2022-12-08T22:34:59.806297Z",
     "iopub.status.busy": "2022-12-08T22:34:59.805862Z",
     "iopub.status.idle": "2022-12-08T22:34:59.814967Z",
     "shell.execute_reply": "2022-12-08T22:34:59.813798Z"
    },
    "papermill": {
     "duration": 0.019235,
     "end_time": "2022-12-08T22:34:59.817446",
     "exception": false,
     "start_time": "2022-12-08T22:34:59.798211",
     "status": "completed"
    },
    "tags": []
   },
   "outputs": [
    {
     "data": {
      "application/javascript": [
       "parent.postMessage({\"jupyterEvent\": \"custom.exercise_interaction\", \"data\": {\"interactionType\": 3, \"questionType\": 2, \"questionId\": \"5_FashionablyLate\", \"learnToolsVersion\": \"0.3.4\", \"valueTowardsCompletion\": 0.0, \"failureMessage\": \"\", \"exceptionClass\": \"\", \"trace\": \"\", \"outcomeType\": 4}}, \"*\")"
      ],
      "text/plain": [
       "<IPython.core.display.Javascript object>"
      ]
     },
     "metadata": {},
     "output_type": "display_data"
    },
    {
     "data": {
      "text/markdown": [
       "<span style=\"color:#33cc99\">Solution:</span> \n",
       "```python\n",
       "def fashionably_late(arrivals, name):\n",
       "    order = arrivals.index(name)\n",
       "    return order >= len(arrivals) / 2 and order != len(arrivals) - 1\n",
       "```"
      ],
      "text/plain": [
       "Solution: \n",
       "```python\n",
       "def fashionably_late(arrivals, name):\n",
       "    order = arrivals.index(name)\n",
       "    return order >= len(arrivals) / 2 and order != len(arrivals) - 1\n",
       "```"
      ]
     },
     "metadata": {},
     "output_type": "display_data"
    }
   ],
   "source": [
    "#q5.hint()\n",
    "q5.solution()"
   ]
  },
  {
   "cell_type": "markdown",
   "id": "67c2a5e1",
   "metadata": {
    "papermill": {
     "duration": 0.006087,
     "end_time": "2022-12-08T22:34:59.829908",
     "exception": false,
     "start_time": "2022-12-08T22:34:59.823821",
     "status": "completed"
    },
    "tags": []
   },
   "source": [
    "# Keep Going\n",
    "\n",
    "That's it for lists and tuples! Now you have the baseline knowledge to **[learn about loops](https://www.kaggle.com/colinmorris/loops-and-list-comprehensions)**, which is where lists and tuples get really interesting. "
   ]
  },
  {
   "cell_type": "markdown",
   "id": "4ea61b0f",
   "metadata": {
    "papermill": {
     "duration": 0.005811,
     "end_time": "2022-12-08T22:34:59.841835",
     "exception": false,
     "start_time": "2022-12-08T22:34:59.836024",
     "status": "completed"
    },
    "tags": []
   },
   "source": [
    "---\n",
    "\n",
    "\n",
    "\n",
    "\n",
    "*Have questions or comments? Visit the [course discussion forum](https://www.kaggle.com/learn/python/discussion) to chat with other learners.*"
   ]
  }
 ],
 "metadata": {
  "kernelspec": {
   "display_name": "Python 3",
   "language": "python",
   "name": "python3"
  },
  "language_info": {
   "codemirror_mode": {
    "name": "ipython",
    "version": 3
   },
   "file_extension": ".py",
   "mimetype": "text/x-python",
   "name": "python",
   "nbconvert_exporter": "python",
   "pygments_lexer": "ipython3",
   "version": "3.7.12"
  },
  "papermill": {
   "default_parameters": {},
   "duration": 12.264227,
   "end_time": "2022-12-08T22:35:00.570319",
   "environment_variables": {},
   "exception": null,
   "input_path": "__notebook__.ipynb",
   "output_path": "__notebook__.ipynb",
   "parameters": {},
   "start_time": "2022-12-08T22:34:48.306092",
   "version": "2.3.4"
  }
 },
 "nbformat": 4,
 "nbformat_minor": 5
}
