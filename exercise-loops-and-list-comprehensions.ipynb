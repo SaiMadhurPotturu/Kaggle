{
 "cells": [
  {
   "cell_type": "markdown",
   "id": "c0999383",
   "metadata": {
    "papermill": {
     "duration": 0.006758,
     "end_time": "2022-12-09T00:59:26.251887",
     "exception": false,
     "start_time": "2022-12-09T00:59:26.245129",
     "status": "completed"
    },
    "tags": []
   },
   "source": [
    "**This notebook is an exercise in the [Python](https://www.kaggle.com/learn/python) course.  You can reference the tutorial at [this link](https://www.kaggle.com/colinmorris/loops-and-list-comprehensions).**\n",
    "\n",
    "---\n"
   ]
  },
  {
   "cell_type": "markdown",
   "id": "9c6af4c2",
   "metadata": {
    "papermill": {
     "duration": 0.005226,
     "end_time": "2022-12-09T00:59:26.262758",
     "exception": false,
     "start_time": "2022-12-09T00:59:26.257532",
     "status": "completed"
    },
    "tags": []
   },
   "source": [
    "With all you've learned, you can start writing much more interesting programs. See if you can solve the problems below.\n",
    "\n",
    "As always, run the setup code below before working on the questions."
   ]
  },
  {
   "cell_type": "code",
   "execution_count": 1,
   "id": "e713e19f",
   "metadata": {
    "execution": {
     "iopub.execute_input": "2022-12-09T00:59:26.276485Z",
     "iopub.status.busy": "2022-12-09T00:59:26.275336Z",
     "iopub.status.idle": "2022-12-09T00:59:26.333647Z",
     "shell.execute_reply": "2022-12-09T00:59:26.332516Z"
    },
    "papermill": {
     "duration": 0.068281,
     "end_time": "2022-12-09T00:59:26.336606",
     "exception": false,
     "start_time": "2022-12-09T00:59:26.268325",
     "status": "completed"
    },
    "tags": []
   },
   "outputs": [
    {
     "name": "stdout",
     "output_type": "stream",
     "text": [
      "Setup complete.\n"
     ]
    }
   ],
   "source": [
    "from learntools.core import binder; binder.bind(globals())\n",
    "from learntools.python.ex5 import *\n",
    "print('Setup complete.')"
   ]
  },
  {
   "cell_type": "markdown",
   "id": "11ced0bd",
   "metadata": {
    "papermill": {
     "duration": 0.005538,
     "end_time": "2022-12-09T00:59:26.348864",
     "exception": false,
     "start_time": "2022-12-09T00:59:26.343326",
     "status": "completed"
    },
    "tags": []
   },
   "source": [
    "# 1.\n",
    "\n",
    "Have you ever felt debugging involved a bit of luck? The following program has a bug. Try to identify the bug and fix it."
   ]
  },
  {
   "cell_type": "code",
   "execution_count": 2,
   "id": "09c4f241",
   "metadata": {
    "execution": {
     "iopub.execute_input": "2022-12-09T00:59:26.362613Z",
     "iopub.status.busy": "2022-12-09T00:59:26.362196Z",
     "iopub.status.idle": "2022-12-09T00:59:26.367848Z",
     "shell.execute_reply": "2022-12-09T00:59:26.366946Z"
    },
    "papermill": {
     "duration": 0.015327,
     "end_time": "2022-12-09T00:59:26.370005",
     "exception": false,
     "start_time": "2022-12-09T00:59:26.354678",
     "status": "completed"
    },
    "tags": []
   },
   "outputs": [],
   "source": [
    "def has_lucky_number(nums):\n",
    "    \"\"\"Return whether the given list of numbers is lucky. A lucky list contains\n",
    "    at least one number divisible by 7.\n",
    "    \"\"\"\n",
    "    luckylist = False\n",
    "    for num in nums:\n",
    "        if num % 7 == 0:\n",
    "            luckylist = True\n",
    "            break\n",
    "    return luckylist"
   ]
  },
  {
   "cell_type": "markdown",
   "id": "0c847ece",
   "metadata": {
    "papermill": {
     "duration": 0.005379,
     "end_time": "2022-12-09T00:59:26.381161",
     "exception": false,
     "start_time": "2022-12-09T00:59:26.375782",
     "status": "completed"
    },
    "tags": []
   },
   "source": [
    "Try to identify the bug and fix it in the cell below:"
   ]
  },
  {
   "cell_type": "code",
   "execution_count": 3,
   "id": "9af5f8bc",
   "metadata": {
    "execution": {
     "iopub.execute_input": "2022-12-09T00:59:26.394724Z",
     "iopub.status.busy": "2022-12-09T00:59:26.393956Z",
     "iopub.status.idle": "2022-12-09T00:59:26.406184Z",
     "shell.execute_reply": "2022-12-09T00:59:26.404641Z"
    },
    "papermill": {
     "duration": 0.021777,
     "end_time": "2022-12-09T00:59:26.408549",
     "exception": false,
     "start_time": "2022-12-09T00:59:26.386772",
     "status": "completed"
    },
    "tags": []
   },
   "outputs": [
    {
     "data": {
      "application/javascript": [
       "parent.postMessage({\"jupyterEvent\": \"custom.exercise_interaction\", \"data\": {\"outcomeType\": 1, \"valueTowardsCompletion\": 0.25, \"interactionType\": 1, \"questionType\": 2, \"questionId\": \"1_EarlyExitDebugging\", \"learnToolsVersion\": \"0.3.4\", \"failureMessage\": \"\", \"exceptionClass\": \"\", \"trace\": \"\"}}, \"*\")"
      ],
      "text/plain": [
       "<IPython.core.display.Javascript object>"
      ]
     },
     "metadata": {},
     "output_type": "display_data"
    },
    {
     "data": {
      "text/markdown": [
       "<span style=\"color:#33cc33\">Correct:</span> \n",
       "\n",
       "Remember that `return` causes a function to exit immediately. So our original implementation always ran for just one iteration. We can only return `False` if we've looked at every element of the list (and confirmed that none of them are lucky). Though we can return early if the answer is `True`:\n",
       "\n",
       "```python\n",
       "def has_lucky_number(nums):\n",
       "    for num in nums:\n",
       "        if num % 7 == 0:\n",
       "            return True\n",
       "    # We've exhausted the list without finding a lucky number\n",
       "    return False\n",
       "```\n",
       "\n",
       "Here's a one-line version using a list comprehension with Python's `any` function (you can read about what it does by calling `help(any)`):\n",
       "\n",
       "```python\n",
       "def has_lucky_number(nums):\n",
       "    return any([num % 7 == 0 for num in nums])\n",
       "```\n"
      ],
      "text/plain": [
       "Correct: \n",
       "\n",
       "Remember that `return` causes a function to exit immediately. So our original implementation always ran for just one iteration. We can only return `False` if we've looked at every element of the list (and confirmed that none of them are lucky). Though we can return early if the answer is `True`:\n",
       "\n",
       "```python\n",
       "def has_lucky_number(nums):\n",
       "    for num in nums:\n",
       "        if num % 7 == 0:\n",
       "            return True\n",
       "    # We've exhausted the list without finding a lucky number\n",
       "    return False\n",
       "```\n",
       "\n",
       "Here's a one-line version using a list comprehension with Python's `any` function (you can read about what it does by calling `help(any)`):\n",
       "\n",
       "```python\n",
       "def has_lucky_number(nums):\n",
       "    return any([num % 7 == 0 for num in nums])\n",
       "```"
      ]
     },
     "metadata": {},
     "output_type": "display_data"
    }
   ],
   "source": [
    "def has_lucky_number(nums):\n",
    "    \"\"\"Return whether the given list of numbers is lucky. A lucky list contains\n",
    "    at least one number divisible by 7.\n",
    "    \"\"\"\n",
    "    luckylist = False\n",
    "    for num in nums:\n",
    "        if num % 7 == 0:\n",
    "            luckylist = True\n",
    "            break\n",
    "    return luckylist\n",
    "\n",
    "# Check your answer\n",
    "q1.check()"
   ]
  },
  {
   "cell_type": "code",
   "execution_count": 4,
   "id": "e6fadcef",
   "metadata": {
    "execution": {
     "iopub.execute_input": "2022-12-09T00:59:26.422956Z",
     "iopub.status.busy": "2022-12-09T00:59:26.422276Z",
     "iopub.status.idle": "2022-12-09T00:59:26.426080Z",
     "shell.execute_reply": "2022-12-09T00:59:26.425231Z"
    },
    "papermill": {
     "duration": 0.013582,
     "end_time": "2022-12-09T00:59:26.428391",
     "exception": false,
     "start_time": "2022-12-09T00:59:26.414809",
     "status": "completed"
    },
    "tags": []
   },
   "outputs": [],
   "source": [
    "#q1.hint()\n",
    "#q1.solution()"
   ]
  },
  {
   "cell_type": "markdown",
   "id": "6c878413",
   "metadata": {
    "papermill": {
     "duration": 0.005666,
     "end_time": "2022-12-09T00:59:26.442107",
     "exception": false,
     "start_time": "2022-12-09T00:59:26.436441",
     "status": "completed"
    },
    "tags": []
   },
   "source": [
    "# 2.\n",
    "Look at the Python expression below. What do you think we'll get when we run it? When you've made your prediction, uncomment the code and run the cell to see if you were right."
   ]
  },
  {
   "cell_type": "code",
   "execution_count": 5,
   "id": "2b40fc44",
   "metadata": {
    "execution": {
     "iopub.execute_input": "2022-12-09T00:59:26.455901Z",
     "iopub.status.busy": "2022-12-09T00:59:26.455233Z",
     "iopub.status.idle": "2022-12-09T00:59:26.459674Z",
     "shell.execute_reply": "2022-12-09T00:59:26.458573Z"
    },
    "papermill": {
     "duration": 0.014083,
     "end_time": "2022-12-09T00:59:26.462058",
     "exception": false,
     "start_time": "2022-12-09T00:59:26.447975",
     "status": "completed"
    },
    "tags": []
   },
   "outputs": [],
   "source": [
    "# [1, 2, 3, 4] > 2"
   ]
  },
  {
   "cell_type": "markdown",
   "id": "bdef58ce",
   "metadata": {
    "papermill": {
     "duration": 0.005591,
     "end_time": "2022-12-09T00:59:26.473646",
     "exception": false,
     "start_time": "2022-12-09T00:59:26.468055",
     "status": "completed"
    },
    "tags": []
   },
   "source": [
    "R and Python have some libraries (like numpy and pandas) compare each element of the list to 2 (i.e. do an 'element-wise' comparison) and give us a list of booleans like `[False, False, True, True]`. \n",
    "\n",
    "Implement a function that reproduces this behaviour, returning a list of booleans corresponding to whether the corresponding element is greater than n."
   ]
  },
  {
   "cell_type": "code",
   "execution_count": 6,
   "id": "b7462824",
   "metadata": {
    "execution": {
     "iopub.execute_input": "2022-12-09T00:59:26.487315Z",
     "iopub.status.busy": "2022-12-09T00:59:26.486877Z",
     "iopub.status.idle": "2022-12-09T00:59:26.497628Z",
     "shell.execute_reply": "2022-12-09T00:59:26.496244Z"
    },
    "papermill": {
     "duration": 0.020342,
     "end_time": "2022-12-09T00:59:26.499864",
     "exception": false,
     "start_time": "2022-12-09T00:59:26.479522",
     "status": "completed"
    },
    "tags": []
   },
   "outputs": [
    {
     "data": {
      "application/javascript": [
       "parent.postMessage({\"jupyterEvent\": \"custom.exercise_interaction\", \"data\": {\"outcomeType\": 1, \"valueTowardsCompletion\": 0.25, \"interactionType\": 1, \"questionType\": 2, \"questionId\": \"2_ElementWiseComparison\", \"learnToolsVersion\": \"0.3.4\", \"failureMessage\": \"\", \"exceptionClass\": \"\", \"trace\": \"\"}}, \"*\")"
      ],
      "text/plain": [
       "<IPython.core.display.Javascript object>"
      ]
     },
     "metadata": {},
     "output_type": "display_data"
    },
    {
     "data": {
      "text/markdown": [
       "<span style=\"color:#33cc33\">Correct:</span> \n",
       "\n",
       "Here's one solution:\n",
       "```python\n",
       "def elementwise_greater_than(L, thresh):\n",
       "    res = []\n",
       "    for ele in L:\n",
       "        res.append(ele > thresh)\n",
       "    return res\n",
       "```\n",
       "\n",
       "And here's the list comprehension version:\n",
       "```python\n",
       "def elementwise_greater_than(L, thresh):\n",
       "    return [ele > thresh for ele in L]\n",
       "```\n"
      ],
      "text/plain": [
       "Correct: \n",
       "\n",
       "Here's one solution:\n",
       "```python\n",
       "def elementwise_greater_than(L, thresh):\n",
       "    res = []\n",
       "    for ele in L:\n",
       "        res.append(ele > thresh)\n",
       "    return res\n",
       "```\n",
       "\n",
       "And here's the list comprehension version:\n",
       "```python\n",
       "def elementwise_greater_than(L, thresh):\n",
       "    return [ele > thresh for ele in L]\n",
       "```"
      ]
     },
     "metadata": {},
     "output_type": "display_data"
    }
   ],
   "source": [
    "def elementwise_greater_than(L, thresh):\n",
    "    \"\"\"Return a list with the same length as L, where the value at index i is \n",
    "    True if L[i] is greater than thresh, and False otherwise.\n",
    "    \n",
    "    >>> elementwise_greater_than([1, 2, 3, 4], 2)\n",
    "    [False, False, True, True]\n",
    "    \"\"\"\n",
    "    return [array > thresh for array in L]\n",
    "\n",
    "# Check your answer\n",
    "q2.check()"
   ]
  },
  {
   "cell_type": "code",
   "execution_count": 7,
   "id": "b44587ef",
   "metadata": {
    "execution": {
     "iopub.execute_input": "2022-12-09T00:59:26.514982Z",
     "iopub.status.busy": "2022-12-09T00:59:26.513892Z",
     "iopub.status.idle": "2022-12-09T00:59:26.519374Z",
     "shell.execute_reply": "2022-12-09T00:59:26.518232Z"
    },
    "papermill": {
     "duration": 0.015516,
     "end_time": "2022-12-09T00:59:26.521761",
     "exception": false,
     "start_time": "2022-12-09T00:59:26.506245",
     "status": "completed"
    },
    "tags": []
   },
   "outputs": [],
   "source": [
    "#q2.solution()"
   ]
  },
  {
   "cell_type": "markdown",
   "id": "eba59aa7",
   "metadata": {
    "papermill": {
     "duration": 0.005847,
     "end_time": "2022-12-09T00:59:26.533707",
     "exception": false,
     "start_time": "2022-12-09T00:59:26.527860",
     "status": "completed"
    },
    "tags": []
   },
   "source": [
    "# 3.\n",
    "\n",
    "Complete the body of the function below according to its docstring."
   ]
  },
  {
   "cell_type": "code",
   "execution_count": 8,
   "id": "10e44d8d",
   "metadata": {
    "execution": {
     "iopub.execute_input": "2022-12-09T00:59:26.547745Z",
     "iopub.status.busy": "2022-12-09T00:59:26.547293Z",
     "iopub.status.idle": "2022-12-09T00:59:26.557236Z",
     "shell.execute_reply": "2022-12-09T00:59:26.556422Z"
    },
    "papermill": {
     "duration": 0.01953,
     "end_time": "2022-12-09T00:59:26.559370",
     "exception": false,
     "start_time": "2022-12-09T00:59:26.539840",
     "status": "completed"
    },
    "tags": []
   },
   "outputs": [
    {
     "data": {
      "application/javascript": [
       "parent.postMessage({\"jupyterEvent\": \"custom.exercise_interaction\", \"data\": {\"outcomeType\": 1, \"valueTowardsCompletion\": 0.25, \"interactionType\": 1, \"questionType\": 2, \"questionId\": \"3_BoringMenu\", \"learnToolsVersion\": \"0.3.4\", \"failureMessage\": \"\", \"exceptionClass\": \"\", \"trace\": \"\"}}, \"*\")"
      ],
      "text/plain": [
       "<IPython.core.display.Javascript object>"
      ]
     },
     "metadata": {},
     "output_type": "display_data"
    },
    {
     "data": {
      "text/markdown": [
       "<span style=\"color:#33cc33\">Correct:</span> \n",
       "\n",
       "\n",
       "\n",
       "```python\n",
       "def menu_is_boring(meals):\n",
       "    # Iterate over all indices of the list, except the last one\n",
       "    for i in range(len(meals)-1):\n",
       "        if meals[i] == meals[i+1]:\n",
       "            return True\n",
       "    return False\n",
       "```\n",
       "\n",
       "The key to our solution is the call to `range`. `range(len(meals))` would give us all the indices of `meals`. If we had used that range, the last iteration of the loop would be comparing the last element to the element after it, which is... `IndexError`! `range(len(meals)-1)` gives us all the indices except the index of the last element.\n",
       "\n",
       "But don't we need to check if `meals` is empty? Turns out that `range(0) == range(-1)` - they're both empty. So if `meals` has length 0 or 1, we just won't do any iterations of our for loop.\n"
      ],
      "text/plain": [
       "Correct: \n",
       "\n",
       "\n",
       "\n",
       "```python\n",
       "def menu_is_boring(meals):\n",
       "    # Iterate over all indices of the list, except the last one\n",
       "    for i in range(len(meals)-1):\n",
       "        if meals[i] == meals[i+1]:\n",
       "            return True\n",
       "    return False\n",
       "```\n",
       "\n",
       "The key to our solution is the call to `range`. `range(len(meals))` would give us all the indices of `meals`. If we had used that range, the last iteration of the loop would be comparing the last element to the element after it, which is... `IndexError`! `range(len(meals)-1)` gives us all the indices except the index of the last element.\n",
       "\n",
       "But don't we need to check if `meals` is empty? Turns out that `range(0) == range(-1)` - they're both empty. So if `meals` has length 0 or 1, we just won't do any iterations of our for loop."
      ]
     },
     "metadata": {},
     "output_type": "display_data"
    }
   ],
   "source": [
    "def menu_is_boring(meals):\n",
    "    \"\"\"Given a list of meals served over some period of time, return True if the\n",
    "    same meal has ever been served two days in a row, and False otherwise.\n",
    "    \"\"\"\n",
    "    for i in range (len(meals)-1):\n",
    "        if meals[i] == meals[i+1]:\n",
    "            return True\n",
    "    return False\n",
    "\n",
    "# Check your answer\n",
    "q3.check()"
   ]
  },
  {
   "cell_type": "code",
   "execution_count": 9,
   "id": "d136e0de",
   "metadata": {
    "execution": {
     "iopub.execute_input": "2022-12-09T00:59:26.574752Z",
     "iopub.status.busy": "2022-12-09T00:59:26.573802Z",
     "iopub.status.idle": "2022-12-09T00:59:26.579625Z",
     "shell.execute_reply": "2022-12-09T00:59:26.578338Z"
    },
    "papermill": {
     "duration": 0.016158,
     "end_time": "2022-12-09T00:59:26.582108",
     "exception": false,
     "start_time": "2022-12-09T00:59:26.565950",
     "status": "completed"
    },
    "tags": []
   },
   "outputs": [],
   "source": [
    "#q3.hint()\n",
    "#q3.solution()"
   ]
  },
  {
   "cell_type": "markdown",
   "id": "fdad931f",
   "metadata": {
    "papermill": {
     "duration": 0.00629,
     "end_time": "2022-12-09T00:59:26.594987",
     "exception": false,
     "start_time": "2022-12-09T00:59:26.588697",
     "status": "completed"
    },
    "tags": []
   },
   "source": [
    "# 4. <span title=\"A bit spicy\" style=\"color: darkgreen \">🌶️</span>\n",
    "\n",
    "Next to the Blackjack table, the Python Challenge Casino has a slot machine. You can get a result from the slot machine by calling `play_slot_machine()`. The number it returns is your winnings in dollars. Usually it returns 0.  But sometimes you'll get lucky and get a big payday. Try running it below:"
   ]
  },
  {
   "cell_type": "code",
   "execution_count": 10,
   "id": "5ead1b44",
   "metadata": {
    "execution": {
     "iopub.execute_input": "2022-12-09T00:59:26.611138Z",
     "iopub.status.busy": "2022-12-09T00:59:26.610412Z",
     "iopub.status.idle": "2022-12-09T00:59:26.616738Z",
     "shell.execute_reply": "2022-12-09T00:59:26.615535Z"
    },
    "papermill": {
     "duration": 0.01687,
     "end_time": "2022-12-09T00:59:26.619076",
     "exception": false,
     "start_time": "2022-12-09T00:59:26.602206",
     "status": "completed"
    },
    "tags": []
   },
   "outputs": [
    {
     "data": {
      "text/plain": [
       "0"
      ]
     },
     "execution_count": 10,
     "metadata": {},
     "output_type": "execute_result"
    }
   ],
   "source": [
    "play_slot_machine()"
   ]
  },
  {
   "cell_type": "markdown",
   "id": "4cae211e",
   "metadata": {
    "papermill": {
     "duration": 0.006217,
     "end_time": "2022-12-09T00:59:26.631927",
     "exception": false,
     "start_time": "2022-12-09T00:59:26.625710",
     "status": "completed"
    },
    "tags": []
   },
   "source": [
    "By the way, did we mention that each play costs $1? Don't worry, we'll send you the bill later.\n",
    "\n",
    "On average, how much money can you expect to gain (or lose) every time you play the machine?  The casino keeps it a secret, but you can estimate the average value of each pull using a technique called the **Monte Carlo method**. To estimate the average outcome, we simulate the scenario many times, and return the average result.\n",
    "\n",
    "Complete the following function to calculate the average value per play of the slot machine."
   ]
  },
  {
   "cell_type": "code",
   "execution_count": 11,
   "id": "13cdca9e",
   "metadata": {
    "execution": {
     "iopub.execute_input": "2022-12-09T00:59:26.647306Z",
     "iopub.status.busy": "2022-12-09T00:59:26.646568Z",
     "iopub.status.idle": "2022-12-09T00:59:26.652052Z",
     "shell.execute_reply": "2022-12-09T00:59:26.650997Z"
    },
    "papermill": {
     "duration": 0.01616,
     "end_time": "2022-12-09T00:59:26.654691",
     "exception": false,
     "start_time": "2022-12-09T00:59:26.638531",
     "status": "completed"
    },
    "tags": []
   },
   "outputs": [],
   "source": [
    "def estimate_average_slot_payout(n_runs):\n",
    "    \"\"\"Run the slot machine n_runs times and return the average net profit per run.\n",
    "    Example calls (note that return value is nondeterministic!):\n",
    "    >>> estimate_average_slot_payout(1)\n",
    "    -1\n",
    "    >>> estimate_average_slot_payout(1)\n",
    "    0.5\n",
    "    \"\"\"\n",
    "    payouts = [play_slot_machine()-1 for i in range(n_runs)]\n",
    "    # Calculate the average value\n",
    "    avg_payout = sum(payouts) / n_runs\n",
    "    return avg_payout\n"
   ]
  },
  {
   "cell_type": "markdown",
   "id": "98efb9ce",
   "metadata": {
    "papermill": {
     "duration": 0.006176,
     "end_time": "2022-12-09T00:59:26.667515",
     "exception": false,
     "start_time": "2022-12-09T00:59:26.661339",
     "status": "completed"
    },
    "tags": []
   },
   "source": [
    "When you think you know the expected value per spin, run the code cell below to view the solution and get credit for answering the question."
   ]
  },
  {
   "cell_type": "code",
   "execution_count": 12,
   "id": "04915fca",
   "metadata": {
    "execution": {
     "iopub.execute_input": "2022-12-09T00:59:26.682976Z",
     "iopub.status.busy": "2022-12-09T00:59:26.682268Z",
     "iopub.status.idle": "2022-12-09T00:59:26.691773Z",
     "shell.execute_reply": "2022-12-09T00:59:26.690553Z"
    },
    "papermill": {
     "duration": 0.020257,
     "end_time": "2022-12-09T00:59:26.694231",
     "exception": false,
     "start_time": "2022-12-09T00:59:26.673974",
     "status": "completed"
    },
    "tags": []
   },
   "outputs": [
    {
     "data": {
      "application/javascript": [
       "parent.postMessage({\"jupyterEvent\": \"custom.exercise_interaction\", \"data\": {\"interactionType\": 3, \"questionType\": 4, \"questionId\": \"4_ExpectedSlotsPayout\", \"learnToolsVersion\": \"0.3.4\", \"valueTowardsCompletion\": 0.0, \"failureMessage\": \"\", \"exceptionClass\": \"\", \"trace\": \"\", \"outcomeType\": 4}}, \"*\")"
      ],
      "text/plain": [
       "<IPython.core.display.Javascript object>"
      ]
     },
     "metadata": {},
     "output_type": "display_data"
    },
    {
     "data": {
      "text/markdown": [
       "<span style=\"color:#33cc99\">Solution:</span> \n",
       "    \n",
       "The exact expected value of one pull of the slot machine is 0.025 - i.e. a little more than 2 cents.  See?  Not every game in the Python Challenge Casino is rigged against the player!\n",
       "\n",
       "In order to get this answer, you'll need to implement the `estimate_average_slot_payout(n_runs)` function to simulate pulling the slot machine `n_runs` times.  It should return the payout averaged over those `n_runs`.\n",
       "\n",
       "Then, once the function is defined, in order to estimate the average slot payout, we need only call the function.\n",
       "\n",
       "Because of the high variance of the outcome (there are some very rare high payout results that significantly affect the average) you might need to run your function with a very high value of `n_runs` to get a stable answer close to the true expectation.  For instance, you might use a value for `n_runs` of 1000000.\n",
       "\n",
       "Here's an example for how the function could look:\n",
       "```python\n",
       "def estimate_average_slot_payout(n_runs):\n",
       "    # Play slot machine n_runs times, calculate payout of each\n",
       "    payouts = [play_slot_machine()-1 for i in range(n_runs)]\n",
       "    # Calculate the average value\n",
       "    avg_payout = sum(payouts) / n_runs\n",
       "    return avg_payout\n",
       "    \n",
       "estimate_average_slot_payout(10000000)\n",
       "\n",
       "```\n",
       "\n",
       "This should return an answer close to 0.025!\n",
       "            \n"
      ],
      "text/plain": [
       "Solution: \n",
       "    \n",
       "The exact expected value of one pull of the slot machine is 0.025 - i.e. a little more than 2 cents.  See?  Not every game in the Python Challenge Casino is rigged against the player!\n",
       "\n",
       "In order to get this answer, you'll need to implement the `estimate_average_slot_payout(n_runs)` function to simulate pulling the slot machine `n_runs` times.  It should return the payout averaged over those `n_runs`.\n",
       "\n",
       "Then, once the function is defined, in order to estimate the average slot payout, we need only call the function.\n",
       "\n",
       "Because of the high variance of the outcome (there are some very rare high payout results that significantly affect the average) you might need to run your function with a very high value of `n_runs` to get a stable answer close to the true expectation.  For instance, you might use a value for `n_runs` of 1000000.\n",
       "\n",
       "Here's an example for how the function could look:\n",
       "```python\n",
       "def estimate_average_slot_payout(n_runs):\n",
       "    # Play slot machine n_runs times, calculate payout of each\n",
       "    payouts = [play_slot_machine()-1 for i in range(n_runs)]\n",
       "    # Calculate the average value\n",
       "    avg_payout = sum(payouts) / n_runs\n",
       "    return avg_payout\n",
       "    \n",
       "estimate_average_slot_payout(10000000)\n",
       "\n",
       "```\n",
       "\n",
       "This should return an answer close to 0.025!\n",
       "            "
      ]
     },
     "metadata": {},
     "output_type": "display_data"
    }
   ],
   "source": [
    "# Check your answer (Run this code cell to receive credit!)\n",
    "q4.solution()"
   ]
  },
  {
   "cell_type": "markdown",
   "id": "96c2ffd4",
   "metadata": {
    "papermill": {
     "duration": 0.006464,
     "end_time": "2022-12-09T00:59:26.707604",
     "exception": false,
     "start_time": "2022-12-09T00:59:26.701140",
     "status": "completed"
    },
    "tags": []
   },
   "source": [
    "# Keep Going\n",
    "\n",
    "Many programmers report that dictionaries are their favorite data structure. You'll get to **[learn about them](https://www.kaggle.com/colinmorris/strings-and-dictionaries)** (as well as strings) in the next lesson."
   ]
  },
  {
   "cell_type": "markdown",
   "id": "ef215aef",
   "metadata": {
    "papermill": {
     "duration": 0.006509,
     "end_time": "2022-12-09T00:59:26.720876",
     "exception": false,
     "start_time": "2022-12-09T00:59:26.714367",
     "status": "completed"
    },
    "tags": []
   },
   "source": [
    "---\n",
    "\n",
    "\n",
    "\n",
    "\n",
    "*Have questions or comments? Visit the [course discussion forum](https://www.kaggle.com/learn/python/discussion) to chat with other learners.*"
   ]
  }
 ],
 "metadata": {
  "kernelspec": {
   "display_name": "Python 3",
   "language": "python",
   "name": "python3"
  },
  "language_info": {
   "codemirror_mode": {
    "name": "ipython",
    "version": 3
   },
   "file_extension": ".py",
   "mimetype": "text/x-python",
   "name": "python",
   "nbconvert_exporter": "python",
   "pygments_lexer": "ipython3",
   "version": "3.7.12"
  },
  "papermill": {
   "default_parameters": {},
   "duration": 12.153629,
   "end_time": "2022-12-09T00:59:27.450333",
   "environment_variables": {},
   "exception": null,
   "input_path": "__notebook__.ipynb",
   "output_path": "__notebook__.ipynb",
   "parameters": {},
   "start_time": "2022-12-09T00:59:15.296704",
   "version": "2.3.4"
  }
 },
 "nbformat": 4,
 "nbformat_minor": 5
}
